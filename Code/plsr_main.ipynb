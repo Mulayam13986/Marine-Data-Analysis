{
 "cells": [
  {
   "cell_type": "code",
   "execution_count": 1,
   "id": "064bbd20",
   "metadata": {},
   "outputs": [],
   "source": [
    "import numpy as np\n",
    "import pandas as pd\n",
    "import matplotlib.pyplot as plt"
   ]
  },
  {
   "cell_type": "code",
   "execution_count": 2,
   "id": "dee4b95e",
   "metadata": {},
   "outputs": [],
   "source": [
    "from sklearn.cross_decomposition import PLSRegression\n",
    "from sklearn.metrics import mean_squared_error , r2_score\n",
    "from sklearn.model_selection import cross_val_predict"
   ]
  },
  {
   "cell_type": "code",
   "execution_count": 3,
   "id": "93a05a7b",
   "metadata": {},
   "outputs": [],
   "source": [
    "from sklearn.metrics import mean_absolute_error"
   ]
  },
  {
   "cell_type": "code",
   "execution_count": 4,
   "id": "81ee7b90",
   "metadata": {},
   "outputs": [],
   "source": [
    "from scipy.signal import savgol_filter"
   ]
  },
  {
   "cell_type": "code",
   "execution_count": 5,
   "id": "6919edc7",
   "metadata": {},
   "outputs": [],
   "source": [
    "from sys import stdout\n",
    " "
   ]
  },
  {
   "cell_type": "code",
   "execution_count": null,
   "id": "0a38cf57",
   "metadata": {},
   "outputs": [],
   "source": []
  },
  {
   "cell_type": "code",
   "execution_count": 4,
   "id": "c03ba382",
   "metadata": {},
   "outputs": [
    {
     "data": {
      "text/plain": [
       "'/*\\n# Define PLS object\\npls = PLSRegression(n_components=5)\\n \\n# Fit\\npls.fit(X, Y)\\n \\n# Cross-validation\\ny_cv = cross_val_predict(pls, X, y, cv=10)\\n \\n# Calculate scores\\nscore = r2_score(y, y_cv)\\nmse = mean_squared_error(y, y_cv)\\n'"
      ]
     },
     "execution_count": 4,
     "metadata": {},
     "output_type": "execute_result"
    }
   ],
   "source": [
    "\"\"\"/*\n",
    "# Define PLS object\n",
    "pls = PLSRegression(n_components=5)\n",
    " \n",
    "# Fit\n",
    "pls.fit(X, Y)\n",
    " \n",
    "# Cross-validation\n",
    "y_cv = cross_val_predict(pls, X, y, cv=10)\n",
    " \n",
    "# Calculate scores\n",
    "score = r2_score(y, y_cv)\n",
    "mse = mean_squared_error(y, y_cv)\n",
    "\"\"\""
   ]
  },
  {
   "cell_type": "code",
   "execution_count": 160,
   "id": "b09866b8",
   "metadata": {},
   "outputs": [],
   "source": [
    "data = pd.read_csv(\"updated_dataset_for_cdom.csv\")"
   ]
  },
  {
   "cell_type": "code",
   "execution_count": 161,
   "id": "87e2c5a8",
   "metadata": {},
   "outputs": [
    {
     "data": {
      "text/html": [
       "<div>\n",
       "<style scoped>\n",
       "    .dataframe tbody tr th:only-of-type {\n",
       "        vertical-align: middle;\n",
       "    }\n",
       "\n",
       "    .dataframe tbody tr th {\n",
       "        vertical-align: top;\n",
       "    }\n",
       "\n",
       "    .dataframe thead th {\n",
       "        text-align: right;\n",
       "    }\n",
       "</style>\n",
       "<table border=\"1\" class=\"dataframe\">\n",
       "  <thead>\n",
       "    <tr style=\"text-align: right;\">\n",
       "      <th></th>\n",
       "      <th>cdom</th>\n",
       "      <th>wvl_400</th>\n",
       "      <th>wvl_406.060606060606</th>\n",
       "      <th>wvl_412.121212121212</th>\n",
       "      <th>wvl_418.181818181818</th>\n",
       "      <th>wvl_424.242424242424</th>\n",
       "      <th>wvl_430.30303030303</th>\n",
       "      <th>wvl_436.363636363636</th>\n",
       "      <th>wvl_442.424242424242</th>\n",
       "      <th>wvl_448.484848484848</th>\n",
       "      <th>...</th>\n",
       "      <th>wvl_945.454545454545</th>\n",
       "      <th>wvl_951.515151515151</th>\n",
       "      <th>wvl_957.575757575757</th>\n",
       "      <th>wvl_963.636363636363</th>\n",
       "      <th>wvl_969.696969696969</th>\n",
       "      <th>wvl_975.757575757575</th>\n",
       "      <th>wvl_981.818181818181</th>\n",
       "      <th>wvl_987.878787878787</th>\n",
       "      <th>wvl_993.939393939393</th>\n",
       "      <th>wvl_1000</th>\n",
       "    </tr>\n",
       "  </thead>\n",
       "  <tbody>\n",
       "    <tr>\n",
       "      <th>0</th>\n",
       "      <td>0.000</td>\n",
       "      <td>0.056314</td>\n",
       "      <td>0.064316</td>\n",
       "      <td>0.067075</td>\n",
       "      <td>0.064996</td>\n",
       "      <td>0.060689</td>\n",
       "      <td>0.055129</td>\n",
       "      <td>0.047608</td>\n",
       "      <td>0.036917</td>\n",
       "      <td>0.027884</td>\n",
       "      <td>...</td>\n",
       "      <td>5.630000e-08</td>\n",
       "      <td>4.910000e-08</td>\n",
       "      <td>4.290000e-08</td>\n",
       "      <td>3.760000e-08</td>\n",
       "      <td>3.320000e-08</td>\n",
       "      <td>2.930000e-08</td>\n",
       "      <td>2.600000e-08</td>\n",
       "      <td>2.310000e-08</td>\n",
       "      <td>2.060000e-08</td>\n",
       "      <td>1.840000e-08</td>\n",
       "    </tr>\n",
       "    <tr>\n",
       "      <th>1</th>\n",
       "      <td>0.005</td>\n",
       "      <td>0.023801</td>\n",
       "      <td>0.026113</td>\n",
       "      <td>0.027362</td>\n",
       "      <td>0.027621</td>\n",
       "      <td>0.027302</td>\n",
       "      <td>0.026501</td>\n",
       "      <td>0.024850</td>\n",
       "      <td>0.021576</td>\n",
       "      <td>0.018119</td>\n",
       "      <td>...</td>\n",
       "      <td>5.630000e-08</td>\n",
       "      <td>4.910000e-08</td>\n",
       "      <td>4.290000e-08</td>\n",
       "      <td>3.760000e-08</td>\n",
       "      <td>3.320000e-08</td>\n",
       "      <td>2.930000e-08</td>\n",
       "      <td>2.600000e-08</td>\n",
       "      <td>2.310000e-08</td>\n",
       "      <td>2.060000e-08</td>\n",
       "      <td>1.840000e-08</td>\n",
       "    </tr>\n",
       "    <tr>\n",
       "      <th>2</th>\n",
       "      <td>0.010</td>\n",
       "      <td>0.014293</td>\n",
       "      <td>0.015436</td>\n",
       "      <td>0.016184</td>\n",
       "      <td>0.016562</td>\n",
       "      <td>0.016713</td>\n",
       "      <td>0.016650</td>\n",
       "      <td>0.016175</td>\n",
       "      <td>0.014827</td>\n",
       "      <td>0.013179</td>\n",
       "      <td>...</td>\n",
       "      <td>5.630000e-08</td>\n",
       "      <td>4.910000e-08</td>\n",
       "      <td>4.290000e-08</td>\n",
       "      <td>3.760000e-08</td>\n",
       "      <td>3.320000e-08</td>\n",
       "      <td>2.930000e-08</td>\n",
       "      <td>2.600000e-08</td>\n",
       "      <td>2.310000e-08</td>\n",
       "      <td>2.060000e-08</td>\n",
       "      <td>1.840000e-08</td>\n",
       "    </tr>\n",
       "    <tr>\n",
       "      <th>3</th>\n",
       "      <td>0.015</td>\n",
       "      <td>0.010014</td>\n",
       "      <td>0.010721</td>\n",
       "      <td>0.011235</td>\n",
       "      <td>0.011571</td>\n",
       "      <td>0.011795</td>\n",
       "      <td>0.011908</td>\n",
       "      <td>0.011792</td>\n",
       "      <td>0.011151</td>\n",
       "      <td>0.010262</td>\n",
       "      <td>...</td>\n",
       "      <td>5.630000e-08</td>\n",
       "      <td>4.910000e-08</td>\n",
       "      <td>4.290000e-08</td>\n",
       "      <td>3.760000e-08</td>\n",
       "      <td>3.320000e-08</td>\n",
       "      <td>2.930000e-08</td>\n",
       "      <td>2.600000e-08</td>\n",
       "      <td>2.310000e-08</td>\n",
       "      <td>2.060000e-08</td>\n",
       "      <td>1.840000e-08</td>\n",
       "    </tr>\n",
       "    <tr>\n",
       "      <th>4</th>\n",
       "      <td>0.020</td>\n",
       "      <td>0.007640</td>\n",
       "      <td>0.008134</td>\n",
       "      <td>0.008519</td>\n",
       "      <td>0.008803</td>\n",
       "      <td>0.009026</td>\n",
       "      <td>0.009184</td>\n",
       "      <td>0.009201</td>\n",
       "      <td>0.008876</td>\n",
       "      <td>0.008360</td>\n",
       "      <td>...</td>\n",
       "      <td>5.630000e-08</td>\n",
       "      <td>4.910000e-08</td>\n",
       "      <td>4.290000e-08</td>\n",
       "      <td>3.760000e-08</td>\n",
       "      <td>3.320000e-08</td>\n",
       "      <td>2.930000e-08</td>\n",
       "      <td>2.600000e-08</td>\n",
       "      <td>2.310000e-08</td>\n",
       "      <td>2.060000e-08</td>\n",
       "      <td>1.840000e-08</td>\n",
       "    </tr>\n",
       "  </tbody>\n",
       "</table>\n",
       "<p>5 rows × 101 columns</p>\n",
       "</div>"
      ],
      "text/plain": [
       "    cdom   wvl_400  wvl_406.060606060606  wvl_412.121212121212  \\\n",
       "0  0.000  0.056314              0.064316              0.067075   \n",
       "1  0.005  0.023801              0.026113              0.027362   \n",
       "2  0.010  0.014293              0.015436              0.016184   \n",
       "3  0.015  0.010014              0.010721              0.011235   \n",
       "4  0.020  0.007640              0.008134              0.008519   \n",
       "\n",
       "   wvl_418.181818181818  wvl_424.242424242424  wvl_430.30303030303  \\\n",
       "0              0.064996              0.060689             0.055129   \n",
       "1              0.027621              0.027302             0.026501   \n",
       "2              0.016562              0.016713             0.016650   \n",
       "3              0.011571              0.011795             0.011908   \n",
       "4              0.008803              0.009026             0.009184   \n",
       "\n",
       "   wvl_436.363636363636  wvl_442.424242424242  wvl_448.484848484848  ...  \\\n",
       "0              0.047608              0.036917              0.027884  ...   \n",
       "1              0.024850              0.021576              0.018119  ...   \n",
       "2              0.016175              0.014827              0.013179  ...   \n",
       "3              0.011792              0.011151              0.010262  ...   \n",
       "4              0.009201              0.008876              0.008360  ...   \n",
       "\n",
       "   wvl_945.454545454545  wvl_951.515151515151  wvl_957.575757575757  \\\n",
       "0          5.630000e-08          4.910000e-08          4.290000e-08   \n",
       "1          5.630000e-08          4.910000e-08          4.290000e-08   \n",
       "2          5.630000e-08          4.910000e-08          4.290000e-08   \n",
       "3          5.630000e-08          4.910000e-08          4.290000e-08   \n",
       "4          5.630000e-08          4.910000e-08          4.290000e-08   \n",
       "\n",
       "   wvl_963.636363636363  wvl_969.696969696969  wvl_975.757575757575  \\\n",
       "0          3.760000e-08          3.320000e-08          2.930000e-08   \n",
       "1          3.760000e-08          3.320000e-08          2.930000e-08   \n",
       "2          3.760000e-08          3.320000e-08          2.930000e-08   \n",
       "3          3.760000e-08          3.320000e-08          2.930000e-08   \n",
       "4          3.760000e-08          3.320000e-08          2.930000e-08   \n",
       "\n",
       "   wvl_981.818181818181  wvl_987.878787878787  wvl_993.939393939393  \\\n",
       "0          2.600000e-08          2.310000e-08          2.060000e-08   \n",
       "1          2.600000e-08          2.310000e-08          2.060000e-08   \n",
       "2          2.600000e-08          2.310000e-08          2.060000e-08   \n",
       "3          2.600000e-08          2.310000e-08          2.060000e-08   \n",
       "4          2.600000e-08          2.310000e-08          2.060000e-08   \n",
       "\n",
       "       wvl_1000  \n",
       "0  1.840000e-08  \n",
       "1  1.840000e-08  \n",
       "2  1.840000e-08  \n",
       "3  1.840000e-08  \n",
       "4  1.840000e-08  \n",
       "\n",
       "[5 rows x 101 columns]"
      ]
     },
     "execution_count": 161,
     "metadata": {},
     "output_type": "execute_result"
    }
   ],
   "source": [
    "data.head()"
   ]
  },
  {
   "cell_type": "code",
   "execution_count": 162,
   "id": "f07b3f58",
   "metadata": {},
   "outputs": [
    {
     "name": "stdout",
     "output_type": "stream",
     "text": [
      "<class 'pandas.core.frame.DataFrame'>\n",
      "RangeIndex: 200 entries, 0 to 199\n",
      "Columns: 101 entries, cdom to wvl_1000\n",
      "dtypes: float64(101)\n",
      "memory usage: 157.9 KB\n"
     ]
    }
   ],
   "source": [
    "data.info()"
   ]
  },
  {
   "cell_type": "code",
   "execution_count": 163,
   "id": "fa6df132",
   "metadata": {},
   "outputs": [
    {
     "data": {
      "text/plain": [
       "Index(['cdom', 'wvl_400', 'wvl_406.060606060606', 'wvl_412.121212121212',\n",
       "       'wvl_418.181818181818', 'wvl_424.242424242424', 'wvl_430.30303030303',\n",
       "       'wvl_436.363636363636', 'wvl_442.424242424242', 'wvl_448.484848484848',\n",
       "       ...\n",
       "       'wvl_945.454545454545', 'wvl_951.515151515151', 'wvl_957.575757575757',\n",
       "       'wvl_963.636363636363', 'wvl_969.696969696969', 'wvl_975.757575757575',\n",
       "       'wvl_981.818181818181', 'wvl_987.878787878787', 'wvl_993.939393939393',\n",
       "       'wvl_1000'],\n",
       "      dtype='object', length=101)"
      ]
     },
     "execution_count": 163,
     "metadata": {},
     "output_type": "execute_result"
    }
   ],
   "source": [
    "data.columns"
   ]
  },
  {
   "cell_type": "code",
   "execution_count": 164,
   "id": "74436c56",
   "metadata": {},
   "outputs": [
    {
     "data": {
      "text/plain": [
       "pandas.core.frame.DataFrame"
      ]
     },
     "execution_count": 164,
     "metadata": {},
     "output_type": "execute_result"
    }
   ],
   "source": [
    "type(data)"
   ]
  },
  {
   "cell_type": "code",
   "execution_count": 165,
   "id": "1399a550",
   "metadata": {},
   "outputs": [
    {
     "data": {
      "text/plain": [
       "pandas.core.series.Series"
      ]
     },
     "execution_count": 165,
     "metadata": {},
     "output_type": "execute_result"
    }
   ],
   "source": [
    "type(data['cdom'])"
   ]
  },
  {
   "cell_type": "code",
   "execution_count": 166,
   "id": "32db9e0c",
   "metadata": {},
   "outputs": [
    {
     "data": {
      "text/plain": [
       "['cdom', 'var1', 'var2', 'var3', 'var4']"
      ]
     },
     "execution_count": 166,
     "metadata": {},
     "output_type": "execute_result"
    }
   ],
   "source": [
    "ind = ['cdom']\n",
    "for i in range(0,100):\n",
    "    temp = \"var\" + str(i+1)\n",
    "    ind.append(temp)\n",
    "ind[0:5]"
   ]
  },
  {
   "cell_type": "code",
   "execution_count": 167,
   "id": "5bfbda65",
   "metadata": {},
   "outputs": [],
   "source": [
    "data.columns = ind"
   ]
  },
  {
   "cell_type": "code",
   "execution_count": 168,
   "id": "bd5b4965",
   "metadata": {},
   "outputs": [
    {
     "data": {
      "text/html": [
       "<div>\n",
       "<style scoped>\n",
       "    .dataframe tbody tr th:only-of-type {\n",
       "        vertical-align: middle;\n",
       "    }\n",
       "\n",
       "    .dataframe tbody tr th {\n",
       "        vertical-align: top;\n",
       "    }\n",
       "\n",
       "    .dataframe thead th {\n",
       "        text-align: right;\n",
       "    }\n",
       "</style>\n",
       "<table border=\"1\" class=\"dataframe\">\n",
       "  <thead>\n",
       "    <tr style=\"text-align: right;\">\n",
       "      <th></th>\n",
       "      <th>cdom</th>\n",
       "      <th>var1</th>\n",
       "      <th>var2</th>\n",
       "      <th>var3</th>\n",
       "      <th>var4</th>\n",
       "      <th>var5</th>\n",
       "      <th>var6</th>\n",
       "      <th>var7</th>\n",
       "      <th>var8</th>\n",
       "      <th>var9</th>\n",
       "      <th>...</th>\n",
       "      <th>var91</th>\n",
       "      <th>var92</th>\n",
       "      <th>var93</th>\n",
       "      <th>var94</th>\n",
       "      <th>var95</th>\n",
       "      <th>var96</th>\n",
       "      <th>var97</th>\n",
       "      <th>var98</th>\n",
       "      <th>var99</th>\n",
       "      <th>var100</th>\n",
       "    </tr>\n",
       "  </thead>\n",
       "  <tbody>\n",
       "    <tr>\n",
       "      <th>0</th>\n",
       "      <td>0.000</td>\n",
       "      <td>0.056314</td>\n",
       "      <td>0.064316</td>\n",
       "      <td>0.067075</td>\n",
       "      <td>0.064996</td>\n",
       "      <td>0.060689</td>\n",
       "      <td>0.055129</td>\n",
       "      <td>0.047608</td>\n",
       "      <td>0.036917</td>\n",
       "      <td>0.027884</td>\n",
       "      <td>...</td>\n",
       "      <td>5.630000e-08</td>\n",
       "      <td>4.910000e-08</td>\n",
       "      <td>4.290000e-08</td>\n",
       "      <td>3.760000e-08</td>\n",
       "      <td>3.320000e-08</td>\n",
       "      <td>2.930000e-08</td>\n",
       "      <td>2.600000e-08</td>\n",
       "      <td>2.310000e-08</td>\n",
       "      <td>2.060000e-08</td>\n",
       "      <td>1.840000e-08</td>\n",
       "    </tr>\n",
       "    <tr>\n",
       "      <th>1</th>\n",
       "      <td>0.005</td>\n",
       "      <td>0.023801</td>\n",
       "      <td>0.026113</td>\n",
       "      <td>0.027362</td>\n",
       "      <td>0.027621</td>\n",
       "      <td>0.027302</td>\n",
       "      <td>0.026501</td>\n",
       "      <td>0.024850</td>\n",
       "      <td>0.021576</td>\n",
       "      <td>0.018119</td>\n",
       "      <td>...</td>\n",
       "      <td>5.630000e-08</td>\n",
       "      <td>4.910000e-08</td>\n",
       "      <td>4.290000e-08</td>\n",
       "      <td>3.760000e-08</td>\n",
       "      <td>3.320000e-08</td>\n",
       "      <td>2.930000e-08</td>\n",
       "      <td>2.600000e-08</td>\n",
       "      <td>2.310000e-08</td>\n",
       "      <td>2.060000e-08</td>\n",
       "      <td>1.840000e-08</td>\n",
       "    </tr>\n",
       "  </tbody>\n",
       "</table>\n",
       "<p>2 rows × 101 columns</p>\n",
       "</div>"
      ],
      "text/plain": [
       "    cdom      var1      var2      var3      var4      var5      var6  \\\n",
       "0  0.000  0.056314  0.064316  0.067075  0.064996  0.060689  0.055129   \n",
       "1  0.005  0.023801  0.026113  0.027362  0.027621  0.027302  0.026501   \n",
       "\n",
       "       var7      var8      var9  ...         var91         var92  \\\n",
       "0  0.047608  0.036917  0.027884  ...  5.630000e-08  4.910000e-08   \n",
       "1  0.024850  0.021576  0.018119  ...  5.630000e-08  4.910000e-08   \n",
       "\n",
       "          var93         var94         var95         var96         var97  \\\n",
       "0  4.290000e-08  3.760000e-08  3.320000e-08  2.930000e-08  2.600000e-08   \n",
       "1  4.290000e-08  3.760000e-08  3.320000e-08  2.930000e-08  2.600000e-08   \n",
       "\n",
       "          var98         var99        var100  \n",
       "0  2.310000e-08  2.060000e-08  1.840000e-08  \n",
       "1  2.310000e-08  2.060000e-08  1.840000e-08  \n",
       "\n",
       "[2 rows x 101 columns]"
      ]
     },
     "execution_count": 168,
     "metadata": {},
     "output_type": "execute_result"
    }
   ],
   "source": [
    "data.head(2)"
   ]
  },
  {
   "cell_type": "code",
   "execution_count": 169,
   "id": "8772ad2d",
   "metadata": {},
   "outputs": [],
   "source": [
    "y = data['cdom']"
   ]
  },
  {
   "cell_type": "code",
   "execution_count": 170,
   "id": "fc5db191",
   "metadata": {},
   "outputs": [
    {
     "data": {
      "text/plain": [
       "0    0.000\n",
       "1    0.005\n",
       "Name: cdom, dtype: float64"
      ]
     },
     "execution_count": 170,
     "metadata": {},
     "output_type": "execute_result"
    }
   ],
   "source": [
    "y.head(2)"
   ]
  },
  {
   "cell_type": "code",
   "execution_count": 171,
   "id": "ce3f0671",
   "metadata": {},
   "outputs": [],
   "source": [
    "X = data.drop('cdom' ,  axis = 1 )"
   ]
  },
  {
   "cell_type": "code",
   "execution_count": 172,
   "id": "51d57255",
   "metadata": {},
   "outputs": [
    {
     "data": {
      "text/html": [
       "<div>\n",
       "<style scoped>\n",
       "    .dataframe tbody tr th:only-of-type {\n",
       "        vertical-align: middle;\n",
       "    }\n",
       "\n",
       "    .dataframe tbody tr th {\n",
       "        vertical-align: top;\n",
       "    }\n",
       "\n",
       "    .dataframe thead th {\n",
       "        text-align: right;\n",
       "    }\n",
       "</style>\n",
       "<table border=\"1\" class=\"dataframe\">\n",
       "  <thead>\n",
       "    <tr style=\"text-align: right;\">\n",
       "      <th></th>\n",
       "      <th>var1</th>\n",
       "      <th>var2</th>\n",
       "      <th>var3</th>\n",
       "      <th>var4</th>\n",
       "      <th>var5</th>\n",
       "      <th>var6</th>\n",
       "      <th>var7</th>\n",
       "      <th>var8</th>\n",
       "      <th>var9</th>\n",
       "      <th>var10</th>\n",
       "      <th>...</th>\n",
       "      <th>var91</th>\n",
       "      <th>var92</th>\n",
       "      <th>var93</th>\n",
       "      <th>var94</th>\n",
       "      <th>var95</th>\n",
       "      <th>var96</th>\n",
       "      <th>var97</th>\n",
       "      <th>var98</th>\n",
       "      <th>var99</th>\n",
       "      <th>var100</th>\n",
       "    </tr>\n",
       "  </thead>\n",
       "  <tbody>\n",
       "    <tr>\n",
       "      <th>0</th>\n",
       "      <td>0.056314</td>\n",
       "      <td>0.064316</td>\n",
       "      <td>0.067075</td>\n",
       "      <td>0.064996</td>\n",
       "      <td>0.060689</td>\n",
       "      <td>0.055129</td>\n",
       "      <td>0.047608</td>\n",
       "      <td>0.036917</td>\n",
       "      <td>0.027884</td>\n",
       "      <td>0.024030</td>\n",
       "      <td>...</td>\n",
       "      <td>5.630000e-08</td>\n",
       "      <td>4.910000e-08</td>\n",
       "      <td>4.290000e-08</td>\n",
       "      <td>3.760000e-08</td>\n",
       "      <td>3.320000e-08</td>\n",
       "      <td>2.930000e-08</td>\n",
       "      <td>2.600000e-08</td>\n",
       "      <td>2.310000e-08</td>\n",
       "      <td>2.060000e-08</td>\n",
       "      <td>1.840000e-08</td>\n",
       "    </tr>\n",
       "    <tr>\n",
       "      <th>1</th>\n",
       "      <td>0.023801</td>\n",
       "      <td>0.026113</td>\n",
       "      <td>0.027362</td>\n",
       "      <td>0.027621</td>\n",
       "      <td>0.027302</td>\n",
       "      <td>0.026501</td>\n",
       "      <td>0.024850</td>\n",
       "      <td>0.021576</td>\n",
       "      <td>0.018119</td>\n",
       "      <td>0.016521</td>\n",
       "      <td>...</td>\n",
       "      <td>5.630000e-08</td>\n",
       "      <td>4.910000e-08</td>\n",
       "      <td>4.290000e-08</td>\n",
       "      <td>3.760000e-08</td>\n",
       "      <td>3.320000e-08</td>\n",
       "      <td>2.930000e-08</td>\n",
       "      <td>2.600000e-08</td>\n",
       "      <td>2.310000e-08</td>\n",
       "      <td>2.060000e-08</td>\n",
       "      <td>1.840000e-08</td>\n",
       "    </tr>\n",
       "  </tbody>\n",
       "</table>\n",
       "<p>2 rows × 100 columns</p>\n",
       "</div>"
      ],
      "text/plain": [
       "       var1      var2      var3      var4      var5      var6      var7  \\\n",
       "0  0.056314  0.064316  0.067075  0.064996  0.060689  0.055129  0.047608   \n",
       "1  0.023801  0.026113  0.027362  0.027621  0.027302  0.026501  0.024850   \n",
       "\n",
       "       var8      var9     var10  ...         var91         var92  \\\n",
       "0  0.036917  0.027884  0.024030  ...  5.630000e-08  4.910000e-08   \n",
       "1  0.021576  0.018119  0.016521  ...  5.630000e-08  4.910000e-08   \n",
       "\n",
       "          var93         var94         var95         var96         var97  \\\n",
       "0  4.290000e-08  3.760000e-08  3.320000e-08  2.930000e-08  2.600000e-08   \n",
       "1  4.290000e-08  3.760000e-08  3.320000e-08  2.930000e-08  2.600000e-08   \n",
       "\n",
       "          var98         var99        var100  \n",
       "0  2.310000e-08  2.060000e-08  1.840000e-08  \n",
       "1  2.310000e-08  2.060000e-08  1.840000e-08  \n",
       "\n",
       "[2 rows x 100 columns]"
      ]
     },
     "execution_count": 172,
     "metadata": {},
     "output_type": "execute_result"
    }
   ],
   "source": [
    "X.head(2)"
   ]
  },
  {
   "cell_type": "code",
   "execution_count": 173,
   "id": "3c4e8614",
   "metadata": {},
   "outputs": [
    {
     "data": {
      "text/plain": [
       "[<matplotlib.lines.Line2D at 0x11f30799730>]"
      ]
     },
     "execution_count": 173,
     "metadata": {},
     "output_type": "execute_result"
    },
    {
     "data": {
      "image/png": "[encoded data removed]",
      "text/plain": [
       "<Figure size 432x288 with 1 Axes>"
      ]
     },
     "metadata": {
      "needs_background": "light"
     },
     "output_type": "display_data"
    }
   ],
   "source": [
    "plt.plot(X[\"var1\"],y)"
   ]
  },
  {
   "cell_type": "code",
   "execution_count": 174,
   "id": "c4e1284c",
   "metadata": {},
   "outputs": [
    {
     "data": {
      "image/png": "[encoded data removed]",
      "text/plain": [
       "<Figure size 432x288 with 1 Axes>"
      ]
     },
     "metadata": {
      "needs_background": "light"
     },
     "output_type": "display_data"
    }
   ],
   "source": [
    "for i in range(100):\n",
    "    temp = \"var\"+str(i+1)\n",
    "    plt.plot(X[temp],y)"
   ]
  },
  {
   "cell_type": "code",
   "execution_count": 175,
   "id": "8a9ce8f9",
   "metadata": {},
   "outputs": [],
   "source": [
    "# using second derivative "
   ]
  },
  {
   "cell_type": "code",
   "execution_count": 176,
   "id": "33a212fe",
   "metadata": {},
   "outputs": [],
   "source": [
    "x_temp = savgol_filter(X,21,polyorder = 2 , deriv = 2)"
   ]
  },
  {
   "cell_type": "code",
   "execution_count": 177,
   "id": "e1e14208",
   "metadata": {},
   "outputs": [
    {
     "data": {
      "text/plain": [
       "numpy.ndarray"
      ]
     },
     "execution_count": 177,
     "metadata": {},
     "output_type": "execute_result"
    }
   ],
   "source": [
    "type(x_temp)"
   ]
  },
  {
   "cell_type": "code",
   "execution_count": 178,
   "id": "ee78892c",
   "metadata": {},
   "outputs": [
    {
     "data": {
      "text/plain": [
       "array([[ 1.93576063e-04,  1.93576063e-04,  1.93576063e-04, ...,\n",
       "         2.55041457e-09,  2.55041457e-09,  2.55041457e-09],\n",
       "       [-5.45828824e-05, -5.45828824e-05, -5.45828824e-05, ...,\n",
       "         2.55041457e-09,  2.55041457e-09,  2.55041457e-09],\n",
       "       [-8.19487315e-05, -8.19487315e-05, -8.19487315e-05, ...,\n",
       "         2.55041457e-09,  2.55041457e-09,  2.55041457e-09],\n",
       "       ...,\n",
       "       [ 2.31785390e-07,  2.31785390e-07,  2.31785390e-07, ...,\n",
       "         2.55041457e-09,  2.55041457e-09,  2.55041457e-09],\n",
       "       [ 2.32596352e-07,  2.32596352e-07,  2.32596352e-07, ...,\n",
       "         2.55041457e-09,  2.55041457e-09,  2.55041457e-09],\n",
       "       [ 2.33381693e-07,  2.33381693e-07,  2.33381693e-07, ...,\n",
       "         2.55041457e-09,  2.55041457e-09,  2.55041457e-09]])"
      ]
     },
     "execution_count": 178,
     "metadata": {},
     "output_type": "execute_result"
    }
   ],
   "source": [
    "x_temp"
   ]
  },
  {
   "cell_type": "code",
   "execution_count": 179,
   "id": "a7168005",
   "metadata": {},
   "outputs": [
    {
     "data": {
      "image/png": "[encoded data removed]",
      "text/plain": [
       "<Figure size 432x288 with 1 Axes>"
      ]
     },
     "metadata": {
      "needs_background": "light"
     },
     "output_type": "display_data"
    }
   ],
   "source": [
    "plt.plot(y,x_temp)\n",
    "plt.show()"
   ]
  },
  {
   "cell_type": "code",
   "execution_count": 180,
   "id": "7702d84c",
   "metadata": {},
   "outputs": [
    {
     "data": {
      "image/png": "[encoded data removed]",
      "text/plain": [
       "<Figure size 432x288 with 1 Axes>"
      ]
     },
     "metadata": {
      "needs_background": "light"
     },
     "output_type": "display_data"
    }
   ],
   "source": [
    "x_temp2 = savgol_filter(X,21,polyorder = 13 , deriv = 2)\n",
    "plt.plot(x_temp2,y)\n",
    "plt.show()"
   ]
  },
  {
   "cell_type": "code",
   "execution_count": null,
   "id": "91e194fb",
   "metadata": {},
   "outputs": [],
   "source": []
  },
  {
   "cell_type": "code",
   "execution_count": null,
   "id": "17eb27da",
   "metadata": {},
   "outputs": [],
   "source": [
    "# for real data set"
   ]
  },
  {
   "cell_type": "code",
   "execution_count": 181,
   "id": "e5e4bf69",
   "metadata": {},
   "outputs": [],
   "source": [
    "def optimised_pls(X,y,n_comp):\n",
    "    \n",
    "    mse = []\n",
    "    \n",
    "    component = np.arange(1,n_comp)\n",
    "    \n",
    "    for i in component :\n",
    "        \n",
    "        pls = PLSRegression(n_components = i )\n",
    "        \n",
    "        # cross validation\n",
    "        y_cv = cross_val_predict(pls, X, y, cv = 10)\n",
    "        \n",
    "        mse.append(mean_squared_error(y , y_cv))\n",
    "        \n",
    "    comp_for_msemin = 1\n",
    "    msemin = min(mse)\n",
    "    for i in range(n_comp):\n",
    "        \n",
    "        if (mse[i] == msemin):\n",
    "            comp_for_msemin = i+1\n",
    "            break\n",
    "    print(\"Suggested number of components  : \" , comp_for_msemin)\n",
    "    \n",
    "    plt.plot(component , np.array(mse) , marker = 'o', ms = 5, color = 'blue' , mfc = \"blue\")\n",
    "    plt.plot(comp_for_msemin, msemin , marker = 's',color = \"red\", ms = 10 )\n",
    "    plt.show()    \n",
    "        \n",
    "    return comp_for_msemin"
   ]
  },
  {
   "cell_type": "code",
   "execution_count": 182,
   "id": "cad97334",
   "metadata": {},
   "outputs": [
    {
     "name": "stdout",
     "output_type": "stream",
     "text": [
      "Suggested number of components  :  12\n"
     ]
    },
    {
     "data": {
      "image/png": "[encoded data removed]",
      "text/plain": [
       "<Figure size 432x288 with 1 Axes>"
      ]
     },
     "metadata": {
      "needs_background": "light"
     },
     "output_type": "display_data"
    },
    {
     "data": {
      "text/plain": [
       "12"
      ]
     },
     "execution_count": 182,
     "metadata": {},
     "output_type": "execute_result"
    }
   ],
   "source": [
    "optimised_pls(X,y,40)"
   ]
  },
  {
   "cell_type": "code",
   "execution_count": 183,
   "id": "2f793aa1",
   "metadata": {},
   "outputs": [
    {
     "name": "stdout",
     "output_type": "stream",
     "text": [
      "Suggested number of components  :  12\n"
     ]
    },
    {
     "data": {
      "image/png": "[encoded data removed]",
      "text/plain": [
       "<Figure size 432x288 with 1 Axes>"
      ]
     },
     "metadata": {
      "needs_background": "light"
     },
     "output_type": "display_data"
    }
   ],
   "source": [
    "optimum_comp = optimised_pls(X,y,100)"
   ]
  },
  {
   "cell_type": "code",
   "execution_count": 184,
   "id": "bbc1fd16",
   "metadata": {},
   "outputs": [
    {
     "name": "stdout",
     "output_type": "stream",
     "text": [
      "y_c is  [[ 0.0022672 ]\n",
      " [-0.00070133]\n",
      " [ 0.00659024]\n",
      " [ 0.01675672]\n",
      " [ 0.02124536]]\n",
      "y_cv is  [[-0.2392558 ]\n",
      " [-0.03163192]\n",
      " [ 0.01712659]\n",
      " [ 0.03541056]\n",
      " [ 0.04109037]]\n"
     ]
    }
   ],
   "source": [
    "# pls with optimal components\n",
    "pls_opt = PLSRegression(n_components = optimum_comp)\n",
    "\n",
    "pls_opt.fit(X,y)\n",
    "y_c = pls_opt.predict(X)\n",
    "y_cv = cross_val_predict(pls_opt , X,y, cv = 10)\n",
    "\n",
    "score_c = r2_score(y,y_c)\n",
    "score_cv = r2_score(y,y_cv)\n",
    "\n",
    "mse_c = mean_squared_error(y,y_c)\n",
    "mse_cv = mean_squared_error(y,y_cv)\n",
    "\n",
    "print(\"y_c is \" , y_c[0:5])\n",
    "print(\"y_cv is \" , y_cv[0:5]) \n"
   ]
  },
  {
   "cell_type": "code",
   "execution_count": 185,
   "id": "c1abbca9",
   "metadata": {},
   "outputs": [
    {
     "name": "stdout",
     "output_type": "stream",
     "text": [
      "score_c is  0.9999521347320958\n",
      "score_cv is  0.9959365894998643\n"
     ]
    }
   ],
   "source": [
    "print(\"score_c is \" , score_c)\n",
    "print(\"score_cv is \" , score_cv)"
   ]
  },
  {
   "cell_type": "code",
   "execution_count": 186,
   "id": "bf8b5d3c",
   "metadata": {},
   "outputs": [
    {
     "name": "stdout",
     "output_type": "stream",
     "text": [
      "mse_c is  3.988672606043183e-06\n",
      "mse_cv is  0.00033860907623943693\n"
     ]
    }
   ],
   "source": [
    "print(\"mse_c is \" , mse_c)\n",
    "print(\"mse_cv is \" , mse_cv)"
   ]
  },
  {
   "cell_type": "code",
   "execution_count": 187,
   "id": "4c4bfc2d",
   "metadata": {},
   "outputs": [
    {
     "name": "stdout",
     "output_type": "stream",
     "text": [
      "0.995 [0.99325201]\n"
     ]
    }
   ],
   "source": [
    "rangey = max(y) - min(y)\n",
    "rangex = max(y_c) - min(y_c)\n",
    "\n",
    "print(rangey , rangex)"
   ]
  },
  {
   "cell_type": "code",
   "execution_count": 188,
   "id": "2f556aad",
   "metadata": {},
   "outputs": [],
   "source": [
    "z = np.polyfit(y , y_c , 1) "
   ]
  },
  {
   "cell_type": "code",
   "execution_count": 189,
   "id": "f4f79610",
   "metadata": {},
   "outputs": [
    {
     "data": {
      "text/plain": [
       "[<matplotlib.lines.Line2D at 0x11f31d943d0>]"
      ]
     },
     "execution_count": 189,
     "metadata": {},
     "output_type": "execute_result"
    },
    {
     "data": {
      "image/png": "[encoded data removed]",
      "text/plain": [
       "<Figure size 432x288 with 1 Axes>"
      ]
     },
     "metadata": {
      "needs_background": "light"
     },
     "output_type": "display_data"
    }
   ],
   "source": [
    "plt.scatter(y_c , y , s = 1 , c = 'green')\n",
    "plt.plot(np.polyval(z,y) ,y , c= 'red' )\n",
    "plt.plot(y,y,c='yellow')"
   ]
  },
  {
   "cell_type": "code",
   "execution_count": 190,
   "id": "75fb154e",
   "metadata": {},
   "outputs": [
    {
     "data": {
      "text/plain": [
       "200"
      ]
     },
     "execution_count": 190,
     "metadata": {},
     "output_type": "execute_result"
    }
   ],
   "source": [
    "len(y)"
   ]
  },
  {
   "cell_type": "code",
   "execution_count": 191,
   "id": "9a33c864",
   "metadata": {},
   "outputs": [
    {
     "name": "stdout",
     "output_type": "stream",
     "text": [
      "[[ 0.0022672 ]\n",
      " [-0.00070133]\n",
      " [ 0.00659024]\n",
      " [ 0.01675672]\n",
      " [ 0.02124536]]\n",
      "0    0.000\n",
      "1    0.005\n",
      "2    0.010\n",
      "3    0.015\n",
      "4    0.020\n",
      "Name: cdom, dtype: float64\n"
     ]
    }
   ],
   "source": [
    "print(y_c[0:5])\n",
    "print(y[0:5])"
   ]
  },
  {
   "cell_type": "code",
   "execution_count": 192,
   "id": "95641c74",
   "metadata": {},
   "outputs": [
    {
     "data": {
      "text/plain": [
       "-0.0007013259255562176"
      ]
     },
     "execution_count": 192,
     "metadata": {},
     "output_type": "execute_result"
    }
   ],
   "source": [
    "y_c[1][0]"
   ]
  },
  {
   "cell_type": "code",
   "execution_count": 193,
   "id": "00f3426c",
   "metadata": {},
   "outputs": [],
   "source": [
    "abs_error = 0 \n",
    "for i in range(200):\n",
    "    abs_error += abs(y[i]-y_c[i][0])\n",
    "abs_error/=200"
   ]
  },
  {
   "cell_type": "code",
   "execution_count": 194,
   "id": "6b530741",
   "metadata": {},
   "outputs": [
    {
     "name": "stdout",
     "output_type": "stream",
     "text": [
      "0.0015978700389806628\n"
     ]
    }
   ],
   "source": [
    "print(abs_error)"
   ]
  },
  {
   "cell_type": "code",
   "execution_count": 195,
   "id": "390f084a",
   "metadata": {},
   "outputs": [
    {
     "name": "stdout",
     "output_type": "stream",
     "text": [
      "Suggested number of components  :  17\n"
     ]
    },
    {
     "data": {
      "image/png": "[encoded data removed]",
      "text/plain": [
       "<Figure size 432x288 with 1 Axes>"
      ]
     },
     "metadata": {
      "needs_background": "light"
     },
     "output_type": "display_data"
    }
   ],
   "source": [
    "optimum_comp_filter = optimised_pls(x_temp,y,100)       # components change "
   ]
  },
  {
   "cell_type": "code",
   "execution_count": 197,
   "id": "a1a1b14c",
   "metadata": {},
   "outputs": [],
   "source": [
    "x2 = savgol_filter(X,17,polyorder = 2 , deriv = 2)"
   ]
  },
  {
   "cell_type": "code",
   "execution_count": 198,
   "id": "25803bcd",
   "metadata": {},
   "outputs": [
    {
     "name": "stdout",
     "output_type": "stream",
     "text": [
      "Suggested number of components  :  14\n"
     ]
    },
    {
     "data": {
      "image/png": "[encoded data removed]",
      "text/plain": [
       "<Figure size 432x288 with 1 Axes>"
      ]
     },
     "metadata": {
      "needs_background": "light"
     },
     "output_type": "display_data"
    }
   ],
   "source": [
    "optimum_filter = optimised_pls(x2,y,100)"
   ]
  },
  {
   "cell_type": "code",
   "execution_count": 202,
   "id": "3b3d0811",
   "metadata": {},
   "outputs": [],
   "source": [
    "# using filter\n",
    "def optimised_fil(X,y,n_comp):\n",
    "    \n",
    "    mse = []\n",
    "    \n",
    "    component = np.arange(1,n_comp)\n",
    "    \n",
    "    for i in component :\n",
    "        \n",
    "        pls = PLSRegression(n_components = i )\n",
    "        \n",
    "        # cross validation\n",
    "        y_cv = cross_val_predict(pls, X, y, cv = 10)\n",
    "        \n",
    "        mse.append(mean_squared_error(y , y_cv))\n",
    "        \n",
    "    comp_for_msemin = 1\n",
    "    msemin = min(mse)\n",
    "    for i in range(n_comp):\n",
    "        \n",
    "        if (mse[i] == msemin):\n",
    "            comp_for_msemin = i+1\n",
    "            break\n",
    "    print(\"Suggested number of components  : \" , comp_for_msemin)\n",
    "\n",
    "    pls_op = PLSRegression(n_components = comp_for_msemin)\n",
    "\n",
    "    pls_op.fit(X,y)\n",
    "    y_c = pls_op.predict(X)\n",
    "    y_cv = cross_val_predict(pls_op, X,y, cv = 10)\n",
    "\n",
    "    score_c = r2_score(y,y_c)\n",
    "    score_cv = r2_score(y,y_cv)\n",
    "\n",
    "    mse_c = mean_squared_error(y,y_c)\n",
    "    mse_cv = mean_squared_error(y,y_cv)\n",
    "    mae_c=mean_absolute_error(y,y_c)\n",
    "    mae_cv=mean_absolute_error(y,y_cv)\n",
    "\n",
    "    print('R2 calib: %5.3f'  % score_c)\n",
    "    print('R2 CV: %5.3f'  % score_cv)\n",
    "    print('MSE calib: %5.3f' % mse_c)\n",
    "    print('MSE CV: %5.3f' % mse_cv)\n",
    "    print('MAE calib: %5.3f' % mae_c)\n",
    "    print('MAE CV: %5.3f' % mae_cv)\n",
    "    "
   ]
  },
  {
   "cell_type": "code",
   "execution_count": 203,
   "id": "1a5181e6",
   "metadata": {},
   "outputs": [
    {
     "name": "stdout",
     "output_type": "stream",
     "text": [
      "Suggested number of components  :  14\n",
      "R2 calib: 1.000\n",
      "R2 CV: 0.932\n",
      "MSE calib: 0.000\n",
      "MSE CV: 0.006\n",
      "MAE calib: 0.001\n",
      "MAE CV: 0.016\n"
     ]
    }
   ],
   "source": [
    "optimised_fil(x2,y,50)"
   ]
  },
  {
   "cell_type": "code",
   "execution_count": 35,
   "id": "a61db191",
   "metadata": {},
   "outputs": [],
   "source": [
    "def optimise_pls_cv(X, y, n_comp, plot_components=True):\n",
    " \n",
    "   \n",
    " \n",
    "    mse = []\n",
    "    component = np.arange(1, n_comp)\n",
    " \n",
    "    for i in component:\n",
    "        pls = PLSRegression(n_components=i)\n",
    " \n",
    "       \n",
    "        y_cv = cross_val_predict(pls, X, y, cv=10)\n",
    " \n",
    "        mse.append(mean_squared_error(y, y_cv))\n",
    " \n",
    "        comp = 100*(i+1)/n_comp\n",
    "       \n",
    "        stdout.write(\"\\r%d%% completed\" % comp)\n",
    "        stdout.flush()\n",
    "    stdout.write(\"\\n\")\n",
    " \n",
    "    \n",
    "    msemin = np.argmin(mse)\n",
    "    print(\"Suggested number of components: \", msemin+1)\n",
    "    stdout.write(\"\\n\")\n",
    " \n",
    "    if plot_components is True:\n",
    "        with plt.style.context(('ggplot')):\n",
    "            plt.plot(component, np.array(mse), '-v', color = 'blue', mfc='blue')\n",
    "            plt.plot(component[msemin], np.array(mse)[msemin], 'P', ms=10, mfc='red')\n",
    "            plt.xlabel('Number of PLS components')\n",
    "            plt.ylabel('MSE')\n",
    "            plt.title('PLS')\n",
    "            plt.xlim(left=-1)\n",
    " \n",
    "        plt.show()\n",
    " \n",
    "   \n",
    "    pls_opt = PLSRegression(n_components=msemin+1)\n",
    " \n",
    "   \n",
    "    pls_opt.fit(X, y)\n",
    "    y_c = pls_opt.predict(X)\n",
    " \n",
    "  \n",
    "    y_cv = cross_val_predict(pls_opt, X, y, cv=10)\n",
    " \n",
    " \n",
    "    score_c = r2_score(y, y_c)\n",
    "    score_cv = r2_score(y, y_cv)\n",
    " \n",
    "   \n",
    "    mse_c = mean_squared_error(y, y_c)\n",
    "    mse_cv = mean_squared_error(y, y_cv)\n",
    "    mae_c=mean_absolute_error(y,y_c)\n",
    "    mae_cv=mean_absolute_error(y,y_cv)\n",
    " \n",
    "    print('R2 calib: ' , score_c)\n",
    "    print('R2 CV: '  ,score_cv)\n",
    "    print('MAE calib: ',mae_c)\n",
    "    print('MAE CV: ',mae_cv)\n",
    "    print('MSE calib: ' ,  mse_c)\n",
    "    print('MSE CV: ' , mse_cv)\n",
    "\n",
    " \n",
    "    \n",
    "    rangey = max(y) - min(y)\n",
    "    rangex = max(y_c) - min(y_c)\n",
    " \n",
    "   \n",
    "    z = np.polyfit(y, y_c, 1)\n",
    "    with plt.style.context(('ggplot')):\n",
    "        fig, ax = plt.subplots(figsize=(9, 5))\n",
    "        ax.scatter(y_c, y, c='red', edgecolors='k')\n",
    "        #Plot the best fit line\n",
    "        ax.plot(np.polyval(z,y), y, c='blue', linewidth=1)\n",
    "        #Plot the ideal 1:1 line\n",
    "        ax.plot(y, y, color='green', linewidth=1)\n",
    "        plt.title('$R^{2}$ (CV): '+str(score_cv))\n",
    "        plt.xlabel('Predicted $^{\\circ}$cdom')\n",
    "        plt.ylabel('Measured $^{\\circ}$cdom')\n",
    " \n",
    "        plt.show()\n",
    " \n",
    "    return"
   ]
  },
  {
   "cell_type": "code",
   "execution_count": null,
   "id": "0a29f6e7",
   "metadata": {},
   "outputs": [],
   "source": []
  },
  {
   "cell_type": "code",
   "execution_count": null,
   "id": "8ceabff3",
   "metadata": {},
   "outputs": [],
   "source": []
  },
  {
   "cell_type": "code",
   "execution_count": null,
   "id": "43cd7f62",
   "metadata": {},
   "outputs": [],
   "source": []
  },
  {
   "cell_type": "code",
   "execution_count": 8,
   "id": "10ac8c25",
   "metadata": {},
   "outputs": [],
   "source": [
    "new_data = pd.read_csv(\"graph_data_cdom.csv\")"
   ]
  },
  {
   "cell_type": "code",
   "execution_count": 9,
   "id": "f51bf49d",
   "metadata": {},
   "outputs": [
    {
     "data": {
      "text/html": [
       "<div>\n",
       "<style scoped>\n",
       "    .dataframe tbody tr th:only-of-type {\n",
       "        vertical-align: middle;\n",
       "    }\n",
       "\n",
       "    .dataframe tbody tr th {\n",
       "        vertical-align: top;\n",
       "    }\n",
       "\n",
       "    .dataframe thead th {\n",
       "        text-align: right;\n",
       "    }\n",
       "</style>\n",
       "<table border=\"1\" class=\"dataframe\">\n",
       "  <thead>\n",
       "    <tr style=\"text-align: right;\">\n",
       "      <th></th>\n",
       "      <th>cdom_0.0</th>\n",
       "      <th>wvl_0.0</th>\n",
       "      <th>r_inf_test_0.0</th>\n",
       "      <th>cdom_0.005</th>\n",
       "      <th>wvl_0.005</th>\n",
       "      <th>r_inf_test_0.005</th>\n",
       "      <th>cdom_0.01</th>\n",
       "      <th>wvl_0.01</th>\n",
       "      <th>r_inf_test_0.01</th>\n",
       "      <th>cdom_0.015</th>\n",
       "      <th>...</th>\n",
       "      <th>r_inf_test_0.98</th>\n",
       "      <th>cdom_0.985</th>\n",
       "      <th>wvl_0.985</th>\n",
       "      <th>r_inf_test_0.985</th>\n",
       "      <th>cdom_0.99</th>\n",
       "      <th>wvl_0.99</th>\n",
       "      <th>r_inf_test_0.99</th>\n",
       "      <th>cdom_0.995</th>\n",
       "      <th>wvl_0.995</th>\n",
       "      <th>r_inf_test_0.995</th>\n",
       "    </tr>\n",
       "  </thead>\n",
       "  <tbody>\n",
       "    <tr>\n",
       "      <th>0</th>\n",
       "      <td>0.0</td>\n",
       "      <td>400.000000</td>\n",
       "      <td>0.016449</td>\n",
       "      <td>0.005</td>\n",
       "      <td>400.000000</td>\n",
       "      <td>0.015117</td>\n",
       "      <td>0.01</td>\n",
       "      <td>400.000000</td>\n",
       "      <td>0.013970</td>\n",
       "      <td>0.015</td>\n",
       "      <td>...</td>\n",
       "      <td>0.000779</td>\n",
       "      <td>0.985</td>\n",
       "      <td>400.000000</td>\n",
       "      <td>0.000775</td>\n",
       "      <td>0.99</td>\n",
       "      <td>400.000000</td>\n",
       "      <td>0.000772</td>\n",
       "      <td>0.995</td>\n",
       "      <td>400.000000</td>\n",
       "      <td>0.000768</td>\n",
       "    </tr>\n",
       "    <tr>\n",
       "      <th>1</th>\n",
       "      <td>0.0</td>\n",
       "      <td>406.060606</td>\n",
       "      <td>0.017710</td>\n",
       "      <td>0.005</td>\n",
       "      <td>406.060606</td>\n",
       "      <td>0.016311</td>\n",
       "      <td>0.01</td>\n",
       "      <td>406.060606</td>\n",
       "      <td>0.015102</td>\n",
       "      <td>0.015</td>\n",
       "      <td>...</td>\n",
       "      <td>0.000853</td>\n",
       "      <td>0.985</td>\n",
       "      <td>406.060606</td>\n",
       "      <td>0.000849</td>\n",
       "      <td>0.99</td>\n",
       "      <td>406.060606</td>\n",
       "      <td>0.000844</td>\n",
       "      <td>0.995</td>\n",
       "      <td>406.060606</td>\n",
       "      <td>0.000840</td>\n",
       "    </tr>\n",
       "    <tr>\n",
       "      <th>2</th>\n",
       "      <td>0.0</td>\n",
       "      <td>412.121212</td>\n",
       "      <td>0.018952</td>\n",
       "      <td>0.005</td>\n",
       "      <td>412.121212</td>\n",
       "      <td>0.017501</td>\n",
       "      <td>0.01</td>\n",
       "      <td>412.121212</td>\n",
       "      <td>0.016241</td>\n",
       "      <td>0.015</td>\n",
       "      <td>...</td>\n",
       "      <td>0.000934</td>\n",
       "      <td>0.985</td>\n",
       "      <td>412.121212</td>\n",
       "      <td>0.000929</td>\n",
       "      <td>0.99</td>\n",
       "      <td>412.121212</td>\n",
       "      <td>0.000925</td>\n",
       "      <td>0.995</td>\n",
       "      <td>412.121212</td>\n",
       "      <td>0.000920</td>\n",
       "    </tr>\n",
       "    <tr>\n",
       "      <th>3</th>\n",
       "      <td>0.0</td>\n",
       "      <td>418.181818</td>\n",
       "      <td>0.020187</td>\n",
       "      <td>0.005</td>\n",
       "      <td>418.181818</td>\n",
       "      <td>0.018697</td>\n",
       "      <td>0.01</td>\n",
       "      <td>418.181818</td>\n",
       "      <td>0.017395</td>\n",
       "      <td>0.015</td>\n",
       "      <td>...</td>\n",
       "      <td>0.001023</td>\n",
       "      <td>0.985</td>\n",
       "      <td>418.181818</td>\n",
       "      <td>0.001018</td>\n",
       "      <td>0.99</td>\n",
       "      <td>418.181818</td>\n",
       "      <td>0.001013</td>\n",
       "      <td>0.995</td>\n",
       "      <td>418.181818</td>\n",
       "      <td>0.001008</td>\n",
       "    </tr>\n",
       "    <tr>\n",
       "      <th>4</th>\n",
       "      <td>0.0</td>\n",
       "      <td>424.242424</td>\n",
       "      <td>0.021450</td>\n",
       "      <td>0.005</td>\n",
       "      <td>424.242424</td>\n",
       "      <td>0.019927</td>\n",
       "      <td>0.01</td>\n",
       "      <td>424.242424</td>\n",
       "      <td>0.018589</td>\n",
       "      <td>0.015</td>\n",
       "      <td>...</td>\n",
       "      <td>0.001122</td>\n",
       "      <td>0.985</td>\n",
       "      <td>424.242424</td>\n",
       "      <td>0.001117</td>\n",
       "      <td>0.99</td>\n",
       "      <td>424.242424</td>\n",
       "      <td>0.001111</td>\n",
       "      <td>0.995</td>\n",
       "      <td>424.242424</td>\n",
       "      <td>0.001106</td>\n",
       "    </tr>\n",
       "  </tbody>\n",
       "</table>\n",
       "<p>5 rows × 600 columns</p>\n",
       "</div>"
      ],
      "text/plain": [
       "   cdom_0.0     wvl_0.0  r_inf_test_0.0  cdom_0.005   wvl_0.005  \\\n",
       "0       0.0  400.000000        0.016449       0.005  400.000000   \n",
       "1       0.0  406.060606        0.017710       0.005  406.060606   \n",
       "2       0.0  412.121212        0.018952       0.005  412.121212   \n",
       "3       0.0  418.181818        0.020187       0.005  418.181818   \n",
       "4       0.0  424.242424        0.021450       0.005  424.242424   \n",
       "\n",
       "   r_inf_test_0.005  cdom_0.01    wvl_0.01  r_inf_test_0.01  cdom_0.015  ...  \\\n",
       "0          0.015117       0.01  400.000000         0.013970       0.015  ...   \n",
       "1          0.016311       0.01  406.060606         0.015102       0.015  ...   \n",
       "2          0.017501       0.01  412.121212         0.016241       0.015  ...   \n",
       "3          0.018697       0.01  418.181818         0.017395       0.015  ...   \n",
       "4          0.019927       0.01  424.242424         0.018589       0.015  ...   \n",
       "\n",
       "   r_inf_test_0.98  cdom_0.985   wvl_0.985  r_inf_test_0.985  cdom_0.99  \\\n",
       "0         0.000779       0.985  400.000000          0.000775       0.99   \n",
       "1         0.000853       0.985  406.060606          0.000849       0.99   \n",
       "2         0.000934       0.985  412.121212          0.000929       0.99   \n",
       "3         0.001023       0.985  418.181818          0.001018       0.99   \n",
       "4         0.001122       0.985  424.242424          0.001117       0.99   \n",
       "\n",
       "     wvl_0.99  r_inf_test_0.99  cdom_0.995   wvl_0.995  r_inf_test_0.995  \n",
       "0  400.000000         0.000772       0.995  400.000000          0.000768  \n",
       "1  406.060606         0.000844       0.995  406.060606          0.000840  \n",
       "2  412.121212         0.000925       0.995  412.121212          0.000920  \n",
       "3  418.181818         0.001013       0.995  418.181818          0.001008  \n",
       "4  424.242424         0.001111       0.995  424.242424          0.001106  \n",
       "\n",
       "[5 rows x 600 columns]"
      ]
     },
     "execution_count": 9,
     "metadata": {},
     "output_type": "execute_result"
    }
   ],
   "source": [
    "new_data.head()"
   ]
  },
  {
   "cell_type": "code",
   "execution_count": 26,
   "id": "5e2fadef",
   "metadata": {},
   "outputs": [
    {
     "name": "stdout",
     "output_type": "stream",
     "text": [
      "<class 'pandas.core.frame.DataFrame'>\n",
      "RangeIndex: 100 entries, 0 to 99\n",
      "Columns: 600 entries, cdom_0.0 to r_inf_test_0.995\n",
      "dtypes: float64(600)\n",
      "memory usage: 468.9 KB\n"
     ]
    }
   ],
   "source": [
    "new_data.info()"
   ]
  },
  {
   "cell_type": "code",
   "execution_count": 16,
   "id": "471bfee8",
   "metadata": {},
   "outputs": [],
   "source": [
    "\n",
    "data1 = pd.DataFrame()\n",
    "\n",
    "new_col = []\n",
    "i=0\n",
    "for column in new_data : \n",
    "    \n",
    "    i+=1 \n",
    "    \n",
    "    if(i%3==0):\n",
    "        \n",
    "        data1 = pd.concat([data1 , new_data[column]] , axis=1)\n",
    "        \n",
    "    elif i%3==1 :\n",
    "        new_col.append(new_data[column][1])\n",
    "        "
   ]
  },
  {
   "cell_type": "code",
   "execution_count": 17,
   "id": "66fe4dc1",
   "metadata": {},
   "outputs": [
    {
     "data": {
      "text/plain": [
       "[0.0,\n",
       " 0.005,\n",
       " 0.01,\n",
       " 0.015,\n",
       " 0.02,\n",
       " 0.025,\n",
       " 0.03,\n",
       " 0.035,\n",
       " 0.04,\n",
       " 0.045,\n",
       " 0.05,\n",
       " 0.055,\n",
       " 0.06,\n",
       " 0.065,\n",
       " 0.07,\n",
       " 0.075,\n",
       " 0.08,\n",
       " 0.085,\n",
       " 0.09,\n",
       " 0.095,\n",
       " 0.1,\n",
       " 0.105,\n",
       " 0.11,\n",
       " 0.115,\n",
       " 0.12,\n",
       " 0.125,\n",
       " 0.13,\n",
       " 0.135,\n",
       " 0.14,\n",
       " 0.145,\n",
       " 0.15,\n",
       " 0.155,\n",
       " 0.16,\n",
       " 0.165,\n",
       " 0.17,\n",
       " 0.175,\n",
       " 0.18,\n",
       " 0.185,\n",
       " 0.19,\n",
       " 0.195,\n",
       " 0.2,\n",
       " 0.205,\n",
       " 0.21,\n",
       " 0.215,\n",
       " 0.22,\n",
       " 0.225,\n",
       " 0.23,\n",
       " 0.235,\n",
       " 0.24,\n",
       " 0.245,\n",
       " 0.25,\n",
       " 0.255,\n",
       " 0.26,\n",
       " 0.265,\n",
       " 0.27,\n",
       " 0.275,\n",
       " 0.28,\n",
       " 0.285,\n",
       " 0.29,\n",
       " 0.295,\n",
       " 0.3,\n",
       " 0.305,\n",
       " 0.31,\n",
       " 0.315,\n",
       " 0.32,\n",
       " 0.325,\n",
       " 0.33,\n",
       " 0.335,\n",
       " 0.34,\n",
       " 0.345,\n",
       " 0.35,\n",
       " 0.355,\n",
       " 0.36,\n",
       " 0.365,\n",
       " 0.37,\n",
       " 0.375,\n",
       " 0.38,\n",
       " 0.385,\n",
       " 0.39,\n",
       " 0.395,\n",
       " 0.4,\n",
       " 0.405,\n",
       " 0.41,\n",
       " 0.415,\n",
       " 0.42,\n",
       " 0.425,\n",
       " 0.43,\n",
       " 0.435,\n",
       " 0.44,\n",
       " 0.445,\n",
       " 0.45,\n",
       " 0.455,\n",
       " 0.46,\n",
       " 0.465,\n",
       " 0.47,\n",
       " 0.475,\n",
       " 0.48,\n",
       " 0.485,\n",
       " 0.49,\n",
       " 0.495,\n",
       " 0.5,\n",
       " 0.505,\n",
       " 0.51,\n",
       " 0.515,\n",
       " 0.52,\n",
       " 0.525,\n",
       " 0.53,\n",
       " 0.535,\n",
       " 0.54,\n",
       " 0.545,\n",
       " 0.55,\n",
       " 0.555,\n",
       " 0.56,\n",
       " 0.5650000000000001,\n",
       " 0.5700000000000001,\n",
       " 0.5750000000000001,\n",
       " 0.58,\n",
       " 0.585,\n",
       " 0.59,\n",
       " 0.595,\n",
       " 0.6,\n",
       " 0.605,\n",
       " 0.61,\n",
       " 0.615,\n",
       " 0.62,\n",
       " 0.625,\n",
       " 0.63,\n",
       " 0.635,\n",
       " 0.64,\n",
       " 0.645,\n",
       " 0.65,\n",
       " 0.655,\n",
       " 0.66,\n",
       " 0.665,\n",
       " 0.67,\n",
       " 0.675,\n",
       " 0.68,\n",
       " 0.685,\n",
       " 0.6900000000000001,\n",
       " 0.6950000000000001,\n",
       " 0.7000000000000001,\n",
       " 0.705,\n",
       " 0.71,\n",
       " 0.715,\n",
       " 0.72,\n",
       " 0.725,\n",
       " 0.73,\n",
       " 0.735,\n",
       " 0.74,\n",
       " 0.745,\n",
       " 0.75,\n",
       " 0.755,\n",
       " 0.76,\n",
       " 0.765,\n",
       " 0.77,\n",
       " 0.775,\n",
       " 0.78,\n",
       " 0.785,\n",
       " 0.79,\n",
       " 0.795,\n",
       " 0.8,\n",
       " 0.805,\n",
       " 0.81,\n",
       " 0.8150000000000001,\n",
       " 0.8200000000000001,\n",
       " 0.8250000000000001,\n",
       " 0.8300000000000001,\n",
       " 0.835,\n",
       " 0.84,\n",
       " 0.845,\n",
       " 0.85,\n",
       " 0.855,\n",
       " 0.86,\n",
       " 0.865,\n",
       " 0.87,\n",
       " 0.875,\n",
       " 0.88,\n",
       " 0.885,\n",
       " 0.89,\n",
       " 0.895,\n",
       " 0.9,\n",
       " 0.905,\n",
       " 0.91,\n",
       " 0.915,\n",
       " 0.92,\n",
       " 0.925,\n",
       " 0.93,\n",
       " 0.935,\n",
       " 0.94,\n",
       " 0.945,\n",
       " 0.95,\n",
       " 0.955,\n",
       " 0.96,\n",
       " 0.965,\n",
       " 0.97,\n",
       " 0.975,\n",
       " 0.98,\n",
       " 0.985,\n",
       " 0.99,\n",
       " 0.995]"
      ]
     },
     "execution_count": 17,
     "metadata": {},
     "output_type": "execute_result"
    }
   ],
   "source": [
    "new_col"
   ]
  },
  {
   "cell_type": "code",
   "execution_count": 19,
   "id": "5e4d941d",
   "metadata": {},
   "outputs": [
    {
     "name": "stdout",
     "output_type": "stream",
     "text": [
      "<class 'pandas.core.frame.DataFrame'>\n",
      "Index: 100 entries, 0 to 99\n",
      "Columns: 200 entries, r_inf_test_0.0 to r_inf_test_0.995\n",
      "dtypes: float64(200)\n",
      "memory usage: 157.0+ KB\n"
     ]
    }
   ],
   "source": [
    "data1.info()"
   ]
  },
  {
   "cell_type": "code",
   "execution_count": 22,
   "id": "a5388333",
   "metadata": {},
   "outputs": [
    {
     "data": {
      "text/plain": [
       "200"
      ]
     },
     "execution_count": 22,
     "metadata": {},
     "output_type": "execute_result"
    }
   ],
   "source": [
    "len(new_col)"
   ]
  },
  {
   "cell_type": "code",
   "execution_count": 23,
   "id": "4e9059bc",
   "metadata": {},
   "outputs": [],
   "source": [
    "data1 = data1.T"
   ]
  },
  {
   "cell_type": "code",
   "execution_count": 24,
   "id": "938499bb",
   "metadata": {},
   "outputs": [
    {
     "data": {
      "text/html": [
       "<div>\n",
       "<style scoped>\n",
       "    .dataframe tbody tr th:only-of-type {\n",
       "        vertical-align: middle;\n",
       "    }\n",
       "\n",
       "    .dataframe tbody tr th {\n",
       "        vertical-align: top;\n",
       "    }\n",
       "\n",
       "    .dataframe thead th {\n",
       "        text-align: right;\n",
       "    }\n",
       "</style>\n",
       "<table border=\"1\" class=\"dataframe\">\n",
       "  <thead>\n",
       "    <tr style=\"text-align: right;\">\n",
       "      <th></th>\n",
       "      <th>0</th>\n",
       "      <th>1</th>\n",
       "      <th>2</th>\n",
       "      <th>3</th>\n",
       "      <th>4</th>\n",
       "      <th>5</th>\n",
       "      <th>6</th>\n",
       "      <th>7</th>\n",
       "      <th>8</th>\n",
       "      <th>9</th>\n",
       "      <th>...</th>\n",
       "      <th>90</th>\n",
       "      <th>91</th>\n",
       "      <th>92</th>\n",
       "      <th>93</th>\n",
       "      <th>94</th>\n",
       "      <th>95</th>\n",
       "      <th>96</th>\n",
       "      <th>97</th>\n",
       "      <th>98</th>\n",
       "      <th>99</th>\n",
       "    </tr>\n",
       "  </thead>\n",
       "  <tbody>\n",
       "    <tr>\n",
       "      <th>r_inf_test_0.0</th>\n",
       "      <td>0.016449</td>\n",
       "      <td>0.017710</td>\n",
       "      <td>0.018952</td>\n",
       "      <td>0.020187</td>\n",
       "      <td>0.021450</td>\n",
       "      <td>0.022738</td>\n",
       "      <td>0.023989</td>\n",
       "      <td>0.025014</td>\n",
       "      <td>0.025880</td>\n",
       "      <td>0.027078</td>\n",
       "      <td>...</td>\n",
       "      <td>0.000009</td>\n",
       "      <td>0.000008</td>\n",
       "      <td>0.000007</td>\n",
       "      <td>0.000006</td>\n",
       "      <td>0.000006</td>\n",
       "      <td>0.000005</td>\n",
       "      <td>0.000005</td>\n",
       "      <td>0.000004</td>\n",
       "      <td>0.000004</td>\n",
       "      <td>0.000004</td>\n",
       "    </tr>\n",
       "    <tr>\n",
       "      <th>r_inf_test_0.005</th>\n",
       "      <td>0.015117</td>\n",
       "      <td>0.016311</td>\n",
       "      <td>0.017501</td>\n",
       "      <td>0.018697</td>\n",
       "      <td>0.019927</td>\n",
       "      <td>0.021190</td>\n",
       "      <td>0.022430</td>\n",
       "      <td>0.023477</td>\n",
       "      <td>0.024387</td>\n",
       "      <td>0.025600</td>\n",
       "      <td>...</td>\n",
       "      <td>0.000009</td>\n",
       "      <td>0.000008</td>\n",
       "      <td>0.000007</td>\n",
       "      <td>0.000006</td>\n",
       "      <td>0.000006</td>\n",
       "      <td>0.000005</td>\n",
       "      <td>0.000005</td>\n",
       "      <td>0.000004</td>\n",
       "      <td>0.000004</td>\n",
       "      <td>0.000004</td>\n",
       "    </tr>\n",
       "    <tr>\n",
       "      <th>r_inf_test_0.01</th>\n",
       "      <td>0.013970</td>\n",
       "      <td>0.015102</td>\n",
       "      <td>0.016241</td>\n",
       "      <td>0.017395</td>\n",
       "      <td>0.018589</td>\n",
       "      <td>0.019822</td>\n",
       "      <td>0.021043</td>\n",
       "      <td>0.022101</td>\n",
       "      <td>0.023041</td>\n",
       "      <td>0.024259</td>\n",
       "      <td>...</td>\n",
       "      <td>0.000009</td>\n",
       "      <td>0.000008</td>\n",
       "      <td>0.000007</td>\n",
       "      <td>0.000006</td>\n",
       "      <td>0.000006</td>\n",
       "      <td>0.000005</td>\n",
       "      <td>0.000005</td>\n",
       "      <td>0.000004</td>\n",
       "      <td>0.000004</td>\n",
       "      <td>0.000004</td>\n",
       "    </tr>\n",
       "    <tr>\n",
       "      <th>r_inf_test_0.015</th>\n",
       "      <td>0.012974</td>\n",
       "      <td>0.014048</td>\n",
       "      <td>0.015137</td>\n",
       "      <td>0.016249</td>\n",
       "      <td>0.017405</td>\n",
       "      <td>0.018605</td>\n",
       "      <td>0.019804</td>\n",
       "      <td>0.020864</td>\n",
       "      <td>0.021822</td>\n",
       "      <td>0.023039</td>\n",
       "      <td>...</td>\n",
       "      <td>0.000009</td>\n",
       "      <td>0.000008</td>\n",
       "      <td>0.000007</td>\n",
       "      <td>0.000006</td>\n",
       "      <td>0.000006</td>\n",
       "      <td>0.000005</td>\n",
       "      <td>0.000005</td>\n",
       "      <td>0.000004</td>\n",
       "      <td>0.000004</td>\n",
       "      <td>0.000004</td>\n",
       "    </tr>\n",
       "    <tr>\n",
       "      <th>r_inf_test_0.02</th>\n",
       "      <td>0.012102</td>\n",
       "      <td>0.013123</td>\n",
       "      <td>0.014164</td>\n",
       "      <td>0.015234</td>\n",
       "      <td>0.016352</td>\n",
       "      <td>0.017518</td>\n",
       "      <td>0.018691</td>\n",
       "      <td>0.019746</td>\n",
       "      <td>0.020715</td>\n",
       "      <td>0.021925</td>\n",
       "      <td>...</td>\n",
       "      <td>0.000009</td>\n",
       "      <td>0.000008</td>\n",
       "      <td>0.000007</td>\n",
       "      <td>0.000006</td>\n",
       "      <td>0.000006</td>\n",
       "      <td>0.000005</td>\n",
       "      <td>0.000005</td>\n",
       "      <td>0.000004</td>\n",
       "      <td>0.000004</td>\n",
       "      <td>0.000004</td>\n",
       "    </tr>\n",
       "    <tr>\n",
       "      <th>...</th>\n",
       "      <td>...</td>\n",
       "      <td>...</td>\n",
       "      <td>...</td>\n",
       "      <td>...</td>\n",
       "      <td>...</td>\n",
       "      <td>...</td>\n",
       "      <td>...</td>\n",
       "      <td>...</td>\n",
       "      <td>...</td>\n",
       "      <td>...</td>\n",
       "      <td>...</td>\n",
       "      <td>...</td>\n",
       "      <td>...</td>\n",
       "      <td>...</td>\n",
       "      <td>...</td>\n",
       "      <td>...</td>\n",
       "      <td>...</td>\n",
       "      <td>...</td>\n",
       "      <td>...</td>\n",
       "      <td>...</td>\n",
       "      <td>...</td>\n",
       "    </tr>\n",
       "    <tr>\n",
       "      <th>r_inf_test_0.975</th>\n",
       "      <td>0.000783</td>\n",
       "      <td>0.000857</td>\n",
       "      <td>0.000939</td>\n",
       "      <td>0.001029</td>\n",
       "      <td>0.001128</td>\n",
       "      <td>0.001238</td>\n",
       "      <td>0.001359</td>\n",
       "      <td>0.001492</td>\n",
       "      <td>0.001637</td>\n",
       "      <td>0.001800</td>\n",
       "      <td>...</td>\n",
       "      <td>0.000009</td>\n",
       "      <td>0.000008</td>\n",
       "      <td>0.000007</td>\n",
       "      <td>0.000006</td>\n",
       "      <td>0.000006</td>\n",
       "      <td>0.000005</td>\n",
       "      <td>0.000005</td>\n",
       "      <td>0.000004</td>\n",
       "      <td>0.000004</td>\n",
       "      <td>0.000004</td>\n",
       "    </tr>\n",
       "    <tr>\n",
       "      <th>r_inf_test_0.98</th>\n",
       "      <td>0.000779</td>\n",
       "      <td>0.000853</td>\n",
       "      <td>0.000934</td>\n",
       "      <td>0.001023</td>\n",
       "      <td>0.001122</td>\n",
       "      <td>0.001232</td>\n",
       "      <td>0.001352</td>\n",
       "      <td>0.001484</td>\n",
       "      <td>0.001629</td>\n",
       "      <td>0.001791</td>\n",
       "      <td>...</td>\n",
       "      <td>0.000009</td>\n",
       "      <td>0.000008</td>\n",
       "      <td>0.000007</td>\n",
       "      <td>0.000006</td>\n",
       "      <td>0.000006</td>\n",
       "      <td>0.000005</td>\n",
       "      <td>0.000005</td>\n",
       "      <td>0.000004</td>\n",
       "      <td>0.000004</td>\n",
       "      <td>0.000004</td>\n",
       "    </tr>\n",
       "    <tr>\n",
       "      <th>r_inf_test_0.985</th>\n",
       "      <td>0.000775</td>\n",
       "      <td>0.000849</td>\n",
       "      <td>0.000929</td>\n",
       "      <td>0.001018</td>\n",
       "      <td>0.001117</td>\n",
       "      <td>0.001225</td>\n",
       "      <td>0.001345</td>\n",
       "      <td>0.001477</td>\n",
       "      <td>0.001621</td>\n",
       "      <td>0.001782</td>\n",
       "      <td>...</td>\n",
       "      <td>0.000009</td>\n",
       "      <td>0.000008</td>\n",
       "      <td>0.000007</td>\n",
       "      <td>0.000006</td>\n",
       "      <td>0.000006</td>\n",
       "      <td>0.000005</td>\n",
       "      <td>0.000005</td>\n",
       "      <td>0.000004</td>\n",
       "      <td>0.000004</td>\n",
       "      <td>0.000004</td>\n",
       "    </tr>\n",
       "    <tr>\n",
       "      <th>r_inf_test_0.99</th>\n",
       "      <td>0.000772</td>\n",
       "      <td>0.000844</td>\n",
       "      <td>0.000925</td>\n",
       "      <td>0.001013</td>\n",
       "      <td>0.001111</td>\n",
       "      <td>0.001219</td>\n",
       "      <td>0.001339</td>\n",
       "      <td>0.001470</td>\n",
       "      <td>0.001613</td>\n",
       "      <td>0.001773</td>\n",
       "      <td>...</td>\n",
       "      <td>0.000009</td>\n",
       "      <td>0.000008</td>\n",
       "      <td>0.000007</td>\n",
       "      <td>0.000006</td>\n",
       "      <td>0.000006</td>\n",
       "      <td>0.000005</td>\n",
       "      <td>0.000005</td>\n",
       "      <td>0.000004</td>\n",
       "      <td>0.000004</td>\n",
       "      <td>0.000004</td>\n",
       "    </tr>\n",
       "    <tr>\n",
       "      <th>r_inf_test_0.995</th>\n",
       "      <td>0.000768</td>\n",
       "      <td>0.000840</td>\n",
       "      <td>0.000920</td>\n",
       "      <td>0.001008</td>\n",
       "      <td>0.001106</td>\n",
       "      <td>0.001213</td>\n",
       "      <td>0.001332</td>\n",
       "      <td>0.001462</td>\n",
       "      <td>0.001605</td>\n",
       "      <td>0.001765</td>\n",
       "      <td>...</td>\n",
       "      <td>0.000009</td>\n",
       "      <td>0.000008</td>\n",
       "      <td>0.000007</td>\n",
       "      <td>0.000006</td>\n",
       "      <td>0.000006</td>\n",
       "      <td>0.000005</td>\n",
       "      <td>0.000005</td>\n",
       "      <td>0.000004</td>\n",
       "      <td>0.000004</td>\n",
       "      <td>0.000004</td>\n",
       "    </tr>\n",
       "  </tbody>\n",
       "</table>\n",
       "<p>200 rows × 100 columns</p>\n",
       "</div>"
      ],
      "text/plain": [
       "                        0         1         2         3         4         5   \\\n",
       "r_inf_test_0.0    0.016449  0.017710  0.018952  0.020187  0.021450  0.022738   \n",
       "r_inf_test_0.005  0.015117  0.016311  0.017501  0.018697  0.019927  0.021190   \n",
       "r_inf_test_0.01   0.013970  0.015102  0.016241  0.017395  0.018589  0.019822   \n",
       "r_inf_test_0.015  0.012974  0.014048  0.015137  0.016249  0.017405  0.018605   \n",
       "r_inf_test_0.02   0.012102  0.013123  0.014164  0.015234  0.016352  0.017518   \n",
       "...                    ...       ...       ...       ...       ...       ...   \n",
       "r_inf_test_0.975  0.000783  0.000857  0.000939  0.001029  0.001128  0.001238   \n",
       "r_inf_test_0.98   0.000779  0.000853  0.000934  0.001023  0.001122  0.001232   \n",
       "r_inf_test_0.985  0.000775  0.000849  0.000929  0.001018  0.001117  0.001225   \n",
       "r_inf_test_0.99   0.000772  0.000844  0.000925  0.001013  0.001111  0.001219   \n",
       "r_inf_test_0.995  0.000768  0.000840  0.000920  0.001008  0.001106  0.001213   \n",
       "\n",
       "                        6         7         8         9   ...        90  \\\n",
       "r_inf_test_0.0    0.023989  0.025014  0.025880  0.027078  ...  0.000009   \n",
       "r_inf_test_0.005  0.022430  0.023477  0.024387  0.025600  ...  0.000009   \n",
       "r_inf_test_0.01   0.021043  0.022101  0.023041  0.024259  ...  0.000009   \n",
       "r_inf_test_0.015  0.019804  0.020864  0.021822  0.023039  ...  0.000009   \n",
       "r_inf_test_0.02   0.018691  0.019746  0.020715  0.021925  ...  0.000009   \n",
       "...                    ...       ...       ...       ...  ...       ...   \n",
       "r_inf_test_0.975  0.001359  0.001492  0.001637  0.001800  ...  0.000009   \n",
       "r_inf_test_0.98   0.001352  0.001484  0.001629  0.001791  ...  0.000009   \n",
       "r_inf_test_0.985  0.001345  0.001477  0.001621  0.001782  ...  0.000009   \n",
       "r_inf_test_0.99   0.001339  0.001470  0.001613  0.001773  ...  0.000009   \n",
       "r_inf_test_0.995  0.001332  0.001462  0.001605  0.001765  ...  0.000009   \n",
       "\n",
       "                        91        92        93        94        95        96  \\\n",
       "r_inf_test_0.0    0.000008  0.000007  0.000006  0.000006  0.000005  0.000005   \n",
       "r_inf_test_0.005  0.000008  0.000007  0.000006  0.000006  0.000005  0.000005   \n",
       "r_inf_test_0.01   0.000008  0.000007  0.000006  0.000006  0.000005  0.000005   \n",
       "r_inf_test_0.015  0.000008  0.000007  0.000006  0.000006  0.000005  0.000005   \n",
       "r_inf_test_0.02   0.000008  0.000007  0.000006  0.000006  0.000005  0.000005   \n",
       "...                    ...       ...       ...       ...       ...       ...   \n",
       "r_inf_test_0.975  0.000008  0.000007  0.000006  0.000006  0.000005  0.000005   \n",
       "r_inf_test_0.98   0.000008  0.000007  0.000006  0.000006  0.000005  0.000005   \n",
       "r_inf_test_0.985  0.000008  0.000007  0.000006  0.000006  0.000005  0.000005   \n",
       "r_inf_test_0.99   0.000008  0.000007  0.000006  0.000006  0.000005  0.000005   \n",
       "r_inf_test_0.995  0.000008  0.000007  0.000006  0.000006  0.000005  0.000005   \n",
       "\n",
       "                        97        98        99  \n",
       "r_inf_test_0.0    0.000004  0.000004  0.000004  \n",
       "r_inf_test_0.005  0.000004  0.000004  0.000004  \n",
       "r_inf_test_0.01   0.000004  0.000004  0.000004  \n",
       "r_inf_test_0.015  0.000004  0.000004  0.000004  \n",
       "r_inf_test_0.02   0.000004  0.000004  0.000004  \n",
       "...                    ...       ...       ...  \n",
       "r_inf_test_0.975  0.000004  0.000004  0.000004  \n",
       "r_inf_test_0.98   0.000004  0.000004  0.000004  \n",
       "r_inf_test_0.985  0.000004  0.000004  0.000004  \n",
       "r_inf_test_0.99   0.000004  0.000004  0.000004  \n",
       "r_inf_test_0.995  0.000004  0.000004  0.000004  \n",
       "\n",
       "[200 rows x 100 columns]"
      ]
     },
     "execution_count": 24,
     "metadata": {},
     "output_type": "execute_result"
    }
   ],
   "source": [
    "data1"
   ]
  },
  {
   "cell_type": "code",
   "execution_count": null,
   "id": "851e1ef8",
   "metadata": {},
   "outputs": [],
   "source": []
  },
  {
   "cell_type": "code",
   "execution_count": null,
   "id": "4f47f588",
   "metadata": {},
   "outputs": [],
   "source": []
  },
  {
   "cell_type": "code",
   "execution_count": null,
   "id": "8fea6aba",
   "metadata": {},
   "outputs": [],
   "source": []
  },
  {
   "cell_type": "code",
   "execution_count": null,
   "id": "3a4bda58",
   "metadata": {},
   "outputs": [],
   "source": []
  },
  {
   "cell_type": "code",
   "execution_count": null,
   "id": "922f3c5f",
   "metadata": {},
   "outputs": [],
   "source": []
  },
  {
   "cell_type": "code",
   "execution_count": 37,
   "id": "6e94d930",
   "metadata": {},
   "outputs": [
    {
     "name": "stdout",
     "output_type": "stream",
     "text": [
      "\n",
      "\n",
      "Choosen tsm value is  1e-06\n",
      "100% completed\n",
      "Suggested number of components:  27\n",
      "\n"
     ]
    },
    {
     "data": {
      "image/png": "[encoded data removed]",
      "text/plain": [
       "<Figure size 432x288 with 1 Axes>"
      ]
     },
     "metadata": {
      "needs_background": "light"
     },
     "output_type": "display_data"
    },
    {
     "name": "stdout",
     "output_type": "stream",
     "text": [
      "R2 calib:  1.0\n",
      "R2 CV:  0.9999909131773677\n",
      "MAE calib:  1.6473186096460646e-13\n",
      "MAE CV:  7.829324009193169e-05\n",
      "MSE calib:  4.1987491863672606e-26\n",
      "MSE CV:  7.572162884858393e-07\n"
     ]
    },
    {
     "data": {
      "image/png": "[encoded data removed]",
      "text/plain": [
       "<Figure size 648x360 with 1 Axes>"
      ]
     },
     "metadata": {},
     "output_type": "display_data"
    },
    {
     "name": "stdout",
     "output_type": "stream",
     "text": [
      "\n",
      "\n",
      "Choosen tsm value is  4.9999999999999996e-06\n",
      "100% completed\n",
      "Suggested number of components:  28\n",
      "\n"
     ]
    },
    {
     "data": {
      "image/png": "[encoded data removed]",
      "text/plain": [
       "<Figure size 432x288 with 1 Axes>"
      ]
     },
     "metadata": {
      "needs_background": "light"
     },
     "output_type": "display_data"
    },
    {
     "name": "stdout",
     "output_type": "stream",
     "text": [
      "R2 calib:  1.0\n",
      "R2 CV:  1.0\n",
      "MAE calib:  7.343557749742157e-13\n",
      "MAE CV:  6.066284363726026e-11\n",
      "MSE calib:  8.351806402095213e-25\n",
      "MSE CV:  1.2117968794730291e-19\n"
     ]
    },
    {
     "data": {
      "image/png": "[encoded data removed]",
      "text/plain": [
       "<Figure size 648x360 with 1 Axes>"
      ]
     },
     "metadata": {},
     "output_type": "display_data"
    },
    {
     "name": "stdout",
     "output_type": "stream",
     "text": [
      "\n",
      "\n",
      "Choosen tsm value is  2.4999999999999998e-05\n",
      "100% completed\n",
      "Suggested number of components:  49\n",
      "\n"
     ]
    },
    {
     "data": {
      "image/png": "[encoded data removed]",
      "text/plain": [
       "<Figure size 432x288 with 1 Axes>"
      ]
     },
     "metadata": {
      "needs_background": "light"
     },
     "output_type": "display_data"
    },
    {
     "name": "stdout",
     "output_type": "stream",
     "text": [
      "R2 calib:  1.0\n",
      "R2 CV:  1.0\n",
      "MAE calib:  6.009908065998659e-13\n",
      "MAE CV:  1.4291189542534056e-12\n",
      "MSE calib:  5.742495405153982e-25\n",
      "MSE CV:  4.515076619933354e-24\n"
     ]
    },
    {
     "data": {
      "image/png": "[encoded data removed]",
      "text/plain": [
       "<Figure size 648x360 with 1 Axes>"
      ]
     },
     "metadata": {},
     "output_type": "display_data"
    },
    {
     "name": "stdout",
     "output_type": "stream",
     "text": [
      "\n",
      "\n",
      "Choosen tsm value is  0.000125\n",
      "100% completed\n",
      "Suggested number of components:  48\n",
      "\n"
     ]
    },
    {
     "data": {
      "image/png": "[encoded data removed]",
      "text/plain": [
       "<Figure size 432x288 with 1 Axes>"
      ]
     },
     "metadata": {
      "needs_background": "light"
     },
     "output_type": "display_data"
    },
    {
     "name": "stdout",
     "output_type": "stream",
     "text": [
      "R2 calib:  1.0\n",
      "R2 CV:  1.0\n",
      "MAE calib:  1.2171694229769214e-12\n",
      "MAE CV:  9.676517009546415e-12\n",
      "MSE calib:  2.2693808850071292e-24\n",
      "MSE CV:  5.10194491769692e-22\n"
     ]
    },
    {
     "data": {
      "image/png": "[encoded data removed]",
      "text/plain": [
       "<Figure size 648x360 with 1 Axes>"
      ]
     },
     "metadata": {},
     "output_type": "display_data"
    },
    {
     "name": "stdout",
     "output_type": "stream",
     "text": [
      "\n",
      "\n",
      "Choosen tsm value is  0.000625\n",
      "100% completed\n",
      "Suggested number of components:  49\n",
      "\n"
     ]
    },
    {
     "data": {
      "image/png": "[encoded data removed]",
      "text/plain": [
       "<Figure size 432x288 with 1 Axes>"
      ]
     },
     "metadata": {
      "needs_background": "light"
     },
     "output_type": "display_data"
    },
    {
     "name": "stdout",
     "output_type": "stream",
     "text": [
      "R2 calib:  1.0\n",
      "R2 CV:  1.0\n",
      "MAE calib:  3.2187669639013872e-12\n",
      "MAE CV:  8.762391901385308e-11\n",
      "MSE calib:  1.6329512099735386e-23\n",
      "MSE CV:  5.801062483483892e-20\n"
     ]
    },
    {
     "data": {
      "image/png": "[encoded data removed]",
      "text/plain": [
       "<Figure size 648x360 with 1 Axes>"
      ]
     },
     "metadata": {},
     "output_type": "display_data"
    },
    {
     "name": "stdout",
     "output_type": "stream",
     "text": [
      "\n",
      "\n",
      "Choosen tsm value is  0.003125\n",
      "100% completed\n",
      "Suggested number of components:  48\n",
      "\n"
     ]
    },
    {
     "data": {
      "image/png": "[encoded data removed]",
      "text/plain": [
       "<Figure size 432x288 with 1 Axes>"
      ]
     },
     "metadata": {
      "needs_background": "light"
     },
     "output_type": "display_data"
    },
    {
     "name": "stdout",
     "output_type": "stream",
     "text": [
      "R2 calib:  1.0\n",
      "R2 CV:  1.0\n",
      "MAE calib:  1.2214864166433989e-11\n",
      "MAE CV:  6.339384252205167e-11\n",
      "MSE calib:  2.3213835300251485e-22\n",
      "MSE CV:  7.610524584898154e-20\n"
     ]
    },
    {
     "data": {
      "image/png": "[encoded data removed]",
      "text/plain": [
       "<Figure size 648x360 with 1 Axes>"
      ]
     },
     "metadata": {},
     "output_type": "display_data"
    },
    {
     "name": "stdout",
     "output_type": "stream",
     "text": [
      "\n",
      "\n",
      "Choosen tsm value is  0.015625\n",
      "100% completed\n",
      "Suggested number of components:  45\n",
      "\n"
     ]
    },
    {
     "data": {
      "image/png": "[encoded data removed]",
      "text/plain": [
       "<Figure size 432x288 with 1 Axes>"
      ]
     },
     "metadata": {
      "needs_background": "light"
     },
     "output_type": "display_data"
    },
    {
     "name": "stdout",
     "output_type": "stream",
     "text": [
      "R2 calib:  1.0\n",
      "R2 CV:  0.9999999999999982\n",
      "MAE calib:  4.87149530244989e-11\n",
      "MAE CV:  1.6775635113067171e-09\n",
      "MSE calib:  3.68213303848637e-21\n",
      "MSE CV:  1.4367456008463175e-16\n"
     ]
    },
    {
     "data": {
      "image/png": "[encoded data removed]",
      "text/plain": [
       "<Figure size 648x360 with 1 Axes>"
      ]
     },
     "metadata": {},
     "output_type": "display_data"
    },
    {
     "name": "stdout",
     "output_type": "stream",
     "text": [
      "\n",
      "\n",
      "Choosen tsm value is  0.078125\n",
      "100% completed\n",
      "Suggested number of components:  49\n",
      "\n"
     ]
    },
    {
     "data": {
      "image/png": "[encoded data removed]",
      "text/plain": [
       "<Figure size 432x288 with 1 Axes>"
      ]
     },
     "metadata": {
      "needs_background": "light"
     },
     "output_type": "display_data"
    },
    {
     "name": "stdout",
     "output_type": "stream",
     "text": [
      "R2 calib:  1.0\n",
      "R2 CV:  0.9999999999992204\n",
      "MAE calib:  1.9713304961620387e-10\n",
      "MAE CV:  6.355544545168604e-08\n",
      "MSE calib:  7.500611622326551e-20\n",
      "MSE CV:  6.496441847273262e-14\n"
     ]
    },
    {
     "data": {
      "image/png": "[encoded data removed]",
      "text/plain": [
       "<Figure size 648x360 with 1 Axes>"
      ]
     },
     "metadata": {},
     "output_type": "display_data"
    },
    {
     "name": "stdout",
     "output_type": "stream",
     "text": [
      "\n",
      "\n",
      "Choosen tsm value is  0.390625\n",
      "100% completed\n",
      "Suggested number of components:  49\n",
      "\n"
     ]
    },
    {
     "data": {
      "image/png": "[encoded data removed]",
      "text/plain": [
       "<Figure size 432x288 with 1 Axes>"
      ]
     },
     "metadata": {
      "needs_background": "light"
     },
     "output_type": "display_data"
    },
    {
     "name": "stdout",
     "output_type": "stream",
     "text": [
      "R2 calib:  0.9999999999999994\n",
      "R2 CV:  0.9999999985716403\n",
      "MAE calib:  3.0674800256269064e-09\n",
      "MAE CV:  2.5623344864883407e-06\n",
      "MSE calib:  4.2453834791858284e-17\n",
      "MSE CV:  1.1902699320208965e-10\n"
     ]
    },
    {
     "data": {
      "image/png": "[encoded data removed]",
      "text/plain": [
       "<Figure size 648x360 with 1 Axes>"
      ]
     },
     "metadata": {},
     "output_type": "display_data"
    },
    {
     "name": "stdout",
     "output_type": "stream",
     "text": [
      "\n",
      "\n",
      "Choosen tsm value is  1.953125\n",
      "100% completed\n",
      "Suggested number of components:  48\n",
      "\n"
     ]
    },
    {
     "data": {
      "image/png": "[encoded data removed]",
      "text/plain": [
       "<Figure size 432x288 with 1 Axes>"
      ]
     },
     "metadata": {
      "needs_background": "light"
     },
     "output_type": "display_data"
    },
    {
     "name": "stdout",
     "output_type": "stream",
     "text": [
      "R2 calib:  0.9999999999999827\n",
      "R2 CV:  0.9991148958520489\n",
      "MAE calib:  2.4700920329322196e-08\n",
      "MAE CV:  0.0024874427518478412\n",
      "MSE calib:  1.439249632567609e-15\n",
      "MSE CV:  7.375683502894916e-05\n"
     ]
    },
    {
     "data": {
      "image/png": "[encoded data removed]",
      "text/plain": [
       "<Figure size 648x360 with 1 Axes>"
      ]
     },
     "metadata": {},
     "output_type": "display_data"
    }
   ],
   "source": [
    "#!/usr/bin/env python\n",
    "# coding=utf-8\n",
    "\n",
    "# ------------------------------------------------------------------------------\n",
    "import numpy as np\n",
    "import pandas as pd\n",
    "\n",
    "from scipy.interpolate import InterpolatedUnivariateSpline, Akima1DInterpolator\n",
    "# ------------------------------------------------------------------------------\n",
    "\n",
    "\n",
    "# ##############################################################################\n",
    "class Hyperspectral(object):\n",
    "    \"\"\"docstring for Hyperspectral\"\"\"\n",
    "# ------------------------------------------------------------------------------\n",
    "    def __init__(self, wvl):\n",
    "        super(Hyperspectral, self).__init__()\n",
    "        self.wvl = wvl\n",
    "# ------------------------------------------------------------------------------\n",
    "\n",
    "# ------------------------------------------------------------------------------\n",
    "    def _read_model_data(self, datafile):\n",
    "\n",
    "        data = np.genfromtxt(datafile)\n",
    "        return data[:, 0], data[:, 1]\n",
    "# ------------------------------------------------------------------------------\n",
    "\n",
    "# ------------------------------------------------------------------------------\n",
    "    def _interp_data(self, wvl, data, extra_flag=True):\n",
    "        \"\"\"\n",
    "        extra_flag is used to allow extrapolation with spline.\n",
    "        \"\"\"\n",
    "        interpolator = Akima1DInterpolator(wvl, data)\n",
    "        data_new = interpolator(self.wvl)\n",
    "        if np.any(np.isnan(data_new)) and extra_flag:\n",
    "\n",
    "            try:\n",
    "                # Try to extrapolate just in using intial data\n",
    "                extrapolator = InterpolatedUnivariateSpline(wvl, data)\n",
    "            except:\n",
    "                # if it's failed, the extrapolation is performed in using\n",
    "                # interpolated data\n",
    "                ind_not_nan = np.where(np.isnan(data_new)==False)\n",
    "                extrapolator = InterpolatedUnivariateSpline(\n",
    "                    self.wvl[ind_not_nan], data_new[ind_not_nan])\n",
    "\n",
    "            ind_nan = np.where(np.isnan(data_new))\n",
    "            data_new[ind_nan] = extrapolator(self.wvl[ind_nan])\n",
    "\n",
    "        return data_new\n",
    "# ------------------------------------------------------------------------------\n",
    "\n",
    "# ------------------------------------------------------------------------------\n",
    "    def resample(self, init_sp, wvl, fwhm):\n",
    "        resamp_data = np.zeros(wvl.shape)\n",
    "        dwvl = self.wvl[1] - self.wvl[0]\n",
    "        for i_wvl in range(wvl.shape[0]):\n",
    "            sigma = fwhm[i_wvl]/(2.*np.sqrt(2*np.log(2)))\n",
    "            filter_coeff = 1./(sigma*np.sqrt(2*np.pi)) * \\\n",
    "                np.exp(-0.5*((self.wvl-wvl[i_wvl])**2)/(sigma**2))\n",
    "            filter_coeff = filter_coeff*dwvl\n",
    "            resamp_data[i_wvl] = np.inner(filter_coeff, init_sp)\n",
    "        return resamp_data\n",
    "# ------------------------------------------------------------------------------\n",
    "# ##############################################################################\n",
    "\n",
    "\n",
    "# ##############################################################################\n",
    "class Water(Hyperspectral):\n",
    "    \"\"\"docstring for Water\"\"\"\n",
    "# ------------------------------------------------------------------------------\n",
    "    def __init__(self, wvl,\n",
    "                 awater_file,\n",
    "                 abwater, ebwater,\n",
    "                 aphy_file, ephy_file,\n",
    "                 anap, snap,\n",
    "                 scdom,\n",
    "                 abp, ebp, bfp):\n",
    "        super(Water, self).__init__(wvl)\n",
    "        # For water absorption\n",
    "        wvl_awater, awater = self._read_model_data(awater_file)\n",
    "        self.awater = self._interp_data(wvl_awater, awater)\n",
    "        # For chlorophyl absorption\n",
    "        wvl_aphy, aphy = self._read_model_data(aphy_file)\n",
    "        wvl_ephy, ephy = self._read_model_data(ephy_file)\n",
    "        self.aphy = self._interp_data(wvl_aphy, aphy)\n",
    "        self.ephy = self._interp_data(wvl_ephy, ephy)\n",
    "        self.aphy = np.maximum(self.aphy, 0.)\n",
    "        self.ephy = np.maximum(self.ephy, 0.)\n",
    "        # For non algal absorption\n",
    "        self.anap = anap\n",
    "        self.snap = snap\n",
    "        # For cdom absorption\n",
    "        self.scdom = scdom\n",
    "        # For water scatterring\n",
    "        self.bwater = self.get_bwater(abwater, ebwater)\n",
    "        # For particles scattering\n",
    "        self.bfp = bfp\n",
    "        self.abp = abp\n",
    "        self.ebp = ebp\n",
    "# ------------------------------------------------------------------------------\n",
    "\n",
    "\n",
    "# ------------------------------------------------------------------------------\n",
    "    def get_aphy(self, chloro_conc):\n",
    "        # concentation in mg/m3\n",
    "        return self.aphy * (chloro_conc)**(self.ephy)\n",
    "# ------------------------------------------------------------------------------\n",
    "\n",
    "# ------------------------------------------------------------------------------\n",
    "    def get_anap(self, tsm):\n",
    "        # total suspended matter in g/m3\n",
    "        return tsm * self.anap * np.exp(-self.snap * (self.wvl - 443.))\n",
    "# ------------------------------------------------------------------------------\n",
    "\n",
    "# ------------------------------------------------------------------------------\n",
    "    def get_acdom(self, cdom_abs):\n",
    "        # absorption in  m-1\n",
    "        return cdom_abs * np.exp(-self.scdom * (self.wvl - 443.))\n",
    "# ------------------------------------------------------------------------------\n",
    "\n",
    "# ------------------------------------------------------------------------------\n",
    "    def get_bwater(self, abwater, ebwater):\n",
    "        return abwater * (self.wvl/500.)**(ebwater)\n",
    "# ------------------------------------------------------------------------------\n",
    "\n",
    "# ------------------------------------------------------------------------------\n",
    "    def get_bp(self, tsm):\n",
    "        # total suspended matter in g/m3\n",
    "        return tsm * self.abp * (self.wvl/555.)**(self.ebp)\n",
    "# ------------------------------------------------------------------------------\n",
    "\n",
    "# ------------------------------------------------------------------------------\n",
    "    def get_absorption(self, chloro_conc, cdom, tsm):\n",
    "        return self.awater + self.get_aphy(chloro_conc) + \\\n",
    "            self.get_acdom(cdom) + self.get_anap(tsm)\n",
    "# ------------------------------------------------------------------------------\n",
    "\n",
    "# ------------------------------------------------------------------------------\n",
    "    def get_total_scat(self, tsm):\n",
    "        return self.bwater + self.get_bp(tsm)\n",
    "# ------------------------------------------------------------------------------\n",
    "\n",
    "# ------------------------------------------------------------------------------\n",
    "    def get_back_scat(self, tsm):\n",
    "        return 0.5*self.bwater + self.bfp * self.get_bp(tsm)\n",
    "# ------------------------------------------------------------------------------\n",
    "\n",
    "# ------------------------------------------------------------------------------\n",
    "    def rrsm_inf(self, chl, cdom, tsm, thetaw, theta):\n",
    "        # From Albert Mobley 2003\n",
    "        # thetaw : subsurface solar zenith angle in radian\n",
    "        # theta : subsurface viewing angle in radian\n",
    "\n",
    "        p1, p2, p3, p4, p5, p6, p7 = \\\n",
    "            0.0512, 4.6659, -7.8387, 5.4571, 0.1098, -0.0044, 0.4021\n",
    "\n",
    "        a = self.get_absorption(chl, cdom, tsm)\n",
    "        bb = self.get_back_scat(tsm)\n",
    "\n",
    "        u = bb/(a+bb)\n",
    "\n",
    "        # Albert Mobley 2003[Eq. 9]\n",
    "        return p1*(1+p2*u+p3*u**2+p4*u**3) * \\\n",
    "            (1+p5/np.cos(thetaw)) * (1+p6*u) * \\\n",
    "            (1+p7/np.cos(theta))*u\n",
    "# ------------------------------------------------------------------------------\n",
    "# ##############################################################################\n",
    "\n",
    "\n",
    "if __name__ == '__main__':\n",
    "    # For test\n",
    "    import matplotlib.pyplot as plt\n",
    "\n",
    "    r_inf_data = []\n",
    "\n",
    "\n",
    "    wvl = np.linspace(400, 1000, 100)\n",
    "    awater_file = \"awater.txt\"\n",
    "    abwater = 0.00288 # can be fixed\n",
    "    ebwater = -4.32 # can be fixed\n",
    "    aphy_file = \"aphys.txt\"\n",
    "    ephy_file = \"ephys.txt\"\n",
    "    anap = 0.036\n",
    "    snap = 0.0123\n",
    "    scdom = 0.017 # change this variable and fix all other for now\n",
    "    abp = 0.42\n",
    "    ebp = -0.2\n",
    "    bfp = 0.0183\n",
    "\n",
    "    water_param = Water(wvl,\n",
    "                        awater_file,\n",
    "                        abwater, ebwater,\n",
    "                        aphy_file, ephy_file,\n",
    "                        anap, snap,\n",
    "                        scdom,\n",
    "                        abp, ebp, bfp)\n",
    "\n",
    "    theta_v, theta_s = np.radians(0), np.radians(30)\n",
    "\n",
    "    df = pd.DataFrame()  # Create an empty DataFrame\n",
    "\n",
    "    tsm_val = 0.000001\n",
    "    while tsm_val < 4 :\n",
    "        \n",
    "        for cdom_values in np.arange(0.0, 1.0, 0.005):\n",
    "            \n",
    "            r_inf_test = water_param.rrsm_inf(0, cdom_values, tsm_val, theta_s, theta_v)\n",
    "            \n",
    "            \n",
    "            \n",
    "        # Create a new DataFrame for each iteration\n",
    "        \n",
    "            iteration_df = pd.DataFrame({\n",
    "            f'cdom_{cdom_values}': cdom_values,\n",
    "            f'wvl_{cdom_values}': wvl,\n",
    "            f'r_inf_test_{cdom_values}': r_inf_test\n",
    "        })\n",
    "            # Append the iteration DataFrame to the main DataFrame\n",
    "\n",
    "            df = pd.concat([df, iteration_df], axis=1)\n",
    "\n",
    "        # Plot the data for the current iteration\n",
    "            plt.plot(wvl, r_inf_test, label='Line '+str(cdom_values))\n",
    "\n",
    "    # Save the main DataFrame to CSV\n",
    "        df.to_csv('graph_data_cdom.csv', index=False)\n",
    "        \n",
    "        new_data = pd.read_csv(\"graph_data_cdom.csv\")\n",
    "        data1 = pd.DataFrame()\n",
    "\n",
    "        new_col = []\n",
    "        i=0\n",
    "        for column in new_data : \n",
    "\n",
    "            i+=1 \n",
    "\n",
    "            if(i%3==0):\n",
    "\n",
    "                data1 = pd.concat([data1 , new_data[column]] , axis=1)\n",
    "\n",
    "            elif i%3==1 :\n",
    "                new_col.append(new_data[column][1])\n",
    "        \n",
    "        data1 = data1.T\n",
    "#         print(new_col)\n",
    "#         print(data1)\n",
    "        print()\n",
    "        print()\n",
    "        \n",
    "        filter_data = savgol_filter(data1, 17, polyorder = 2,deriv=2)\n",
    "        print(\"Choosen tsm value is \" , tsm_val)\n",
    "        optimise_pls_cv(filter_data,new_col,50, plot_components=True)\n",
    "        \n",
    "        \n",
    "        \n",
    "        tsm_val*=5\n",
    "    "
   ]
  },
  {
   "cell_type": "code",
   "execution_count": 24,
   "id": "a3f6c5f0",
   "metadata": {},
   "outputs": [],
   "source": [
    "def noise_pls_cv(X, y, random_state = None):\n",
    " \n",
    "    np.random.seed(random_state)\n",
    "    n_comp = 100\n",
    "    mse = []\n",
    "    component = np.arange(1, n_comp)\n",
    "\n",
    "    for i in component:\n",
    "        pls = PLSRegression(n_components=i)\n",
    "\n",
    "\n",
    "        y_cv = cross_val_predict(pls, X, y, cv=10)\n",
    "\n",
    "        mse.append(mean_squared_error(y, y_cv))\n",
    "\n",
    "        comp = 100*(i+1)/n_comp\n",
    "\n",
    "        stdout.write(\"\\r%d%% completed\" % comp)\n",
    "        stdout.flush()\n",
    "    stdout.write(\"\\n\")\n",
    "\n",
    "\n",
    "    msemin = np.argmin(mse)\n",
    "    print(\"Suggested number of components: \", msemin+1)\n",
    "    stdout.write(\"\\n\")\n",
    "\n",
    "\n",
    "\n",
    "\n",
    "\n",
    "\n",
    "    X_train = X\n",
    "    Y_train = y\n",
    "    # Randomly select indices for test data\n",
    "    '''  generates test data by randomly selecting indices from the input data (X) using np.random.choice()\n",
    "    replace=False argument ensures that the same index is not selected multiple times.\n",
    "    np.random.normal() generates random numbers from a normal distribution with a mean of 0 (loc=0) and a\n",
    "    standard deviation of 0.1 (scale=0.1). The size parameter is set to (len(test_indices), X.shape[1]) to match the\n",
    "    shape of X_test, where X.shape[1] represents the number of columns (features) in X '''\n",
    "    scale_values = [0.1 , 0.01 , 0.001,0.0001]\n",
    "    for x in scale_values:\n",
    "      test_indices = np.random.choice(X.index, size=int(0.3 * len(X)), replace=False)\n",
    "      X_test = X.loc[test_indices] + np.random.normal(loc=0, scale=x, size=(len(test_indices), X.shape[1]))\n",
    "      Y_test = y.loc[test_indices]\n",
    "\n",
    "      rf = PLSRegression(n_components=msemin+1)\n",
    "      rf.fit(X_train, Y_train)\n",
    "\n",
    "      preds_train = rf.predict(X_train)  # predicted values for training data\n",
    "      true_y_train = Y_train.to_numpy().flatten()\n",
    "      error_rf_mse_train = mean_squared_error(true_y_train, preds_train)\n",
    "      error_rf_abs_train = mean_absolute_error(true_y_train, preds_train)\n",
    "\n",
    "      preds = rf.predict(X_test)  # predicted value\n",
    "      true_y = Y_test.to_numpy().flatten()\n",
    "      error_rf_mse = mean_squared_error(true_y, preds)\n",
    "      error_rf_abs = mean_absolute_error(true_y, preds)\n",
    "\n",
    "      print(\"For STD : \", x)\n",
    "      print(\"\\n Training set MSE: \", error_rf_mse_train)\n",
    "      print(\"\\n Training set MAE: \", error_rf_abs_train, \"\\n\")\n",
    "\n",
    "      print(\"\\n Test set R-squared: \", rf.score(X_test, Y_test))\n",
    "      print(\"\\n Test set MSE: \", error_rf_mse)\n",
    "      print(\"\\n Test set MAE: \", error_rf_abs, \"\\n\")\n",
    "\n",
    "\n",
    "      # Plot true vs predicted values\n",
    "      fig, ax = plt.subplots(figsize=(8, 8))\n",
    "      ax.scatter(true_y, preds, color='blue', label='True vs Predicted')\n",
    "      ax.plot([true_y.min(), true_y.max()], [true_y.min(), true_y.max()], color='red', linestyle='--', label='Ideal')\n",
    "      ax.set_xlabel('True Values')\n",
    "      ax.set_ylabel('Predicted Values')\n",
    "      ax.legend()\n",
    "      plt.show()\n",
    "    \n",
    "    \n",
    "    return rf.score(X_test, Y_test)\n",
    "\n",
    "\n",
    "\n",
    " \n",
    " "
   ]
  },
  {
   "cell_type": "code",
   "execution_count": 17,
   "id": "95abbf3b",
   "metadata": {},
   "outputs": [],
   "source": [
    "data = pd.read_csv(\"updated_dataset_for_cdom.csv\")"
   ]
  },
  {
   "cell_type": "code",
   "execution_count": 18,
   "id": "513d3e04",
   "metadata": {},
   "outputs": [
    {
     "data": {
      "text/html": [
       "<div>\n",
       "<style scoped>\n",
       "    .dataframe tbody tr th:only-of-type {\n",
       "        vertical-align: middle;\n",
       "    }\n",
       "\n",
       "    .dataframe tbody tr th {\n",
       "        vertical-align: top;\n",
       "    }\n",
       "\n",
       "    .dataframe thead th {\n",
       "        text-align: right;\n",
       "    }\n",
       "</style>\n",
       "<table border=\"1\" class=\"dataframe\">\n",
       "  <thead>\n",
       "    <tr style=\"text-align: right;\">\n",
       "      <th></th>\n",
       "      <th>cdom</th>\n",
       "      <th>wvl_400</th>\n",
       "      <th>wvl_406.060606060606</th>\n",
       "      <th>wvl_412.121212121212</th>\n",
       "      <th>wvl_418.181818181818</th>\n",
       "      <th>wvl_424.242424242424</th>\n",
       "      <th>wvl_430.30303030303</th>\n",
       "      <th>wvl_436.363636363636</th>\n",
       "      <th>wvl_442.424242424242</th>\n",
       "      <th>wvl_448.484848484848</th>\n",
       "      <th>...</th>\n",
       "      <th>wvl_945.454545454545</th>\n",
       "      <th>wvl_951.515151515151</th>\n",
       "      <th>wvl_957.575757575757</th>\n",
       "      <th>wvl_963.636363636363</th>\n",
       "      <th>wvl_969.696969696969</th>\n",
       "      <th>wvl_975.757575757575</th>\n",
       "      <th>wvl_981.818181818181</th>\n",
       "      <th>wvl_987.878787878787</th>\n",
       "      <th>wvl_993.939393939393</th>\n",
       "      <th>wvl_1000</th>\n",
       "    </tr>\n",
       "  </thead>\n",
       "  <tbody>\n",
       "    <tr>\n",
       "      <th>0</th>\n",
       "      <td>0.000</td>\n",
       "      <td>0.056314</td>\n",
       "      <td>0.064316</td>\n",
       "      <td>0.067075</td>\n",
       "      <td>0.064996</td>\n",
       "      <td>0.060689</td>\n",
       "      <td>0.055129</td>\n",
       "      <td>0.047608</td>\n",
       "      <td>0.036917</td>\n",
       "      <td>0.027884</td>\n",
       "      <td>...</td>\n",
       "      <td>5.630000e-08</td>\n",
       "      <td>4.910000e-08</td>\n",
       "      <td>4.290000e-08</td>\n",
       "      <td>3.760000e-08</td>\n",
       "      <td>3.320000e-08</td>\n",
       "      <td>2.930000e-08</td>\n",
       "      <td>2.600000e-08</td>\n",
       "      <td>2.310000e-08</td>\n",
       "      <td>2.060000e-08</td>\n",
       "      <td>1.840000e-08</td>\n",
       "    </tr>\n",
       "    <tr>\n",
       "      <th>1</th>\n",
       "      <td>0.005</td>\n",
       "      <td>0.023801</td>\n",
       "      <td>0.026113</td>\n",
       "      <td>0.027362</td>\n",
       "      <td>0.027621</td>\n",
       "      <td>0.027302</td>\n",
       "      <td>0.026501</td>\n",
       "      <td>0.024850</td>\n",
       "      <td>0.021576</td>\n",
       "      <td>0.018119</td>\n",
       "      <td>...</td>\n",
       "      <td>5.630000e-08</td>\n",
       "      <td>4.910000e-08</td>\n",
       "      <td>4.290000e-08</td>\n",
       "      <td>3.760000e-08</td>\n",
       "      <td>3.320000e-08</td>\n",
       "      <td>2.930000e-08</td>\n",
       "      <td>2.600000e-08</td>\n",
       "      <td>2.310000e-08</td>\n",
       "      <td>2.060000e-08</td>\n",
       "      <td>1.840000e-08</td>\n",
       "    </tr>\n",
       "    <tr>\n",
       "      <th>2</th>\n",
       "      <td>0.010</td>\n",
       "      <td>0.014293</td>\n",
       "      <td>0.015436</td>\n",
       "      <td>0.016184</td>\n",
       "      <td>0.016562</td>\n",
       "      <td>0.016713</td>\n",
       "      <td>0.016650</td>\n",
       "      <td>0.016175</td>\n",
       "      <td>0.014827</td>\n",
       "      <td>0.013179</td>\n",
       "      <td>...</td>\n",
       "      <td>5.630000e-08</td>\n",
       "      <td>4.910000e-08</td>\n",
       "      <td>4.290000e-08</td>\n",
       "      <td>3.760000e-08</td>\n",
       "      <td>3.320000e-08</td>\n",
       "      <td>2.930000e-08</td>\n",
       "      <td>2.600000e-08</td>\n",
       "      <td>2.310000e-08</td>\n",
       "      <td>2.060000e-08</td>\n",
       "      <td>1.840000e-08</td>\n",
       "    </tr>\n",
       "    <tr>\n",
       "      <th>3</th>\n",
       "      <td>0.015</td>\n",
       "      <td>0.010014</td>\n",
       "      <td>0.010721</td>\n",
       "      <td>0.011235</td>\n",
       "      <td>0.011571</td>\n",
       "      <td>0.011795</td>\n",
       "      <td>0.011908</td>\n",
       "      <td>0.011792</td>\n",
       "      <td>0.011151</td>\n",
       "      <td>0.010262</td>\n",
       "      <td>...</td>\n",
       "      <td>5.630000e-08</td>\n",
       "      <td>4.910000e-08</td>\n",
       "      <td>4.290000e-08</td>\n",
       "      <td>3.760000e-08</td>\n",
       "      <td>3.320000e-08</td>\n",
       "      <td>2.930000e-08</td>\n",
       "      <td>2.600000e-08</td>\n",
       "      <td>2.310000e-08</td>\n",
       "      <td>2.060000e-08</td>\n",
       "      <td>1.840000e-08</td>\n",
       "    </tr>\n",
       "    <tr>\n",
       "      <th>4</th>\n",
       "      <td>0.020</td>\n",
       "      <td>0.007640</td>\n",
       "      <td>0.008134</td>\n",
       "      <td>0.008519</td>\n",
       "      <td>0.008803</td>\n",
       "      <td>0.009026</td>\n",
       "      <td>0.009184</td>\n",
       "      <td>0.009201</td>\n",
       "      <td>0.008876</td>\n",
       "      <td>0.008360</td>\n",
       "      <td>...</td>\n",
       "      <td>5.630000e-08</td>\n",
       "      <td>4.910000e-08</td>\n",
       "      <td>4.290000e-08</td>\n",
       "      <td>3.760000e-08</td>\n",
       "      <td>3.320000e-08</td>\n",
       "      <td>2.930000e-08</td>\n",
       "      <td>2.600000e-08</td>\n",
       "      <td>2.310000e-08</td>\n",
       "      <td>2.060000e-08</td>\n",
       "      <td>1.840000e-08</td>\n",
       "    </tr>\n",
       "  </tbody>\n",
       "</table>\n",
       "<p>5 rows × 101 columns</p>\n",
       "</div>"
      ],
      "text/plain": [
       "    cdom   wvl_400  wvl_406.060606060606  wvl_412.121212121212  \\\n",
       "0  0.000  0.056314              0.064316              0.067075   \n",
       "1  0.005  0.023801              0.026113              0.027362   \n",
       "2  0.010  0.014293              0.015436              0.016184   \n",
       "3  0.015  0.010014              0.010721              0.011235   \n",
       "4  0.020  0.007640              0.008134              0.008519   \n",
       "\n",
       "   wvl_418.181818181818  wvl_424.242424242424  wvl_430.30303030303  \\\n",
       "0              0.064996              0.060689             0.055129   \n",
       "1              0.027621              0.027302             0.026501   \n",
       "2              0.016562              0.016713             0.016650   \n",
       "3              0.011571              0.011795             0.011908   \n",
       "4              0.008803              0.009026             0.009184   \n",
       "\n",
       "   wvl_436.363636363636  wvl_442.424242424242  wvl_448.484848484848  ...  \\\n",
       "0              0.047608              0.036917              0.027884  ...   \n",
       "1              0.024850              0.021576              0.018119  ...   \n",
       "2              0.016175              0.014827              0.013179  ...   \n",
       "3              0.011792              0.011151              0.010262  ...   \n",
       "4              0.009201              0.008876              0.008360  ...   \n",
       "\n",
       "   wvl_945.454545454545  wvl_951.515151515151  wvl_957.575757575757  \\\n",
       "0          5.630000e-08          4.910000e-08          4.290000e-08   \n",
       "1          5.630000e-08          4.910000e-08          4.290000e-08   \n",
       "2          5.630000e-08          4.910000e-08          4.290000e-08   \n",
       "3          5.630000e-08          4.910000e-08          4.290000e-08   \n",
       "4          5.630000e-08          4.910000e-08          4.290000e-08   \n",
       "\n",
       "   wvl_963.636363636363  wvl_969.696969696969  wvl_975.757575757575  \\\n",
       "0          3.760000e-08          3.320000e-08          2.930000e-08   \n",
       "1          3.760000e-08          3.320000e-08          2.930000e-08   \n",
       "2          3.760000e-08          3.320000e-08          2.930000e-08   \n",
       "3          3.760000e-08          3.320000e-08          2.930000e-08   \n",
       "4          3.760000e-08          3.320000e-08          2.930000e-08   \n",
       "\n",
       "   wvl_981.818181818181  wvl_987.878787878787  wvl_993.939393939393  \\\n",
       "0          2.600000e-08          2.310000e-08          2.060000e-08   \n",
       "1          2.600000e-08          2.310000e-08          2.060000e-08   \n",
       "2          2.600000e-08          2.310000e-08          2.060000e-08   \n",
       "3          2.600000e-08          2.310000e-08          2.060000e-08   \n",
       "4          2.600000e-08          2.310000e-08          2.060000e-08   \n",
       "\n",
       "       wvl_1000  \n",
       "0  1.840000e-08  \n",
       "1  1.840000e-08  \n",
       "2  1.840000e-08  \n",
       "3  1.840000e-08  \n",
       "4  1.840000e-08  \n",
       "\n",
       "[5 rows x 101 columns]"
      ]
     },
     "execution_count": 18,
     "metadata": {},
     "output_type": "execute_result"
    }
   ],
   "source": [
    "data.head()"
   ]
  },
  {
   "cell_type": "code",
   "execution_count": 25,
   "id": "4e67354a",
   "metadata": {},
   "outputs": [
    {
     "name": "stdout",
     "output_type": "stream",
     "text": [
      "100% completed\n",
      "Suggested number of components:  12\n",
      "\n",
      "For STD :  0.1\n",
      "\n",
      " Training set MSE:  3.988672606043183e-06\n",
      "\n",
      " Training set MAE:  0.0015978700389806628 \n",
      "\n",
      "\n",
      " Test set R-squared:  -161102533906.60663\n",
      "\n",
      " Test set MSE:  11515792601.601559\n",
      "\n",
      " Test set MAE:  87762.60140426287 \n",
      "\n"
     ]
    },
    {
     "data": {
      "image/png": "[encoded data removed]",
      "text/plain": [
       "<Figure size 576x576 with 1 Axes>"
      ]
     },
     "metadata": {
      "needs_background": "light"
     },
     "output_type": "display_data"
    },
    {
     "name": "stdout",
     "output_type": "stream",
     "text": [
      "For STD :  0.01\n",
      "\n",
      " Training set MSE:  3.988672606043183e-06\n",
      "\n",
      " Training set MAE:  0.0015978700389806628 \n",
      "\n",
      "\n",
      " Test set R-squared:  -1227723769.1914303\n",
      "\n",
      " Test set MSE:  96558087.28489174\n",
      "\n",
      " Test set MAE:  7762.2625438840005 \n",
      "\n"
     ]
    },
    {
     "data": {
      "image/png": "[encoded data removed]",
      "text/plain": [
       "<Figure size 576x576 with 1 Axes>"
      ]
     },
     "metadata": {
      "needs_background": "light"
     },
     "output_type": "display_data"
    },
    {
     "name": "stdout",
     "output_type": "stream",
     "text": [
      "For STD :  0.001\n",
      "\n",
      " Training set MSE:  3.988672606043183e-06\n",
      "\n",
      " Training set MAE:  0.0015978700389806628 \n",
      "\n",
      "\n",
      " Test set R-squared:  -11035955.029089248\n",
      "\n",
      " Test set MSE:  1069516.264136763\n",
      "\n",
      " Test set MAE:  790.3584019062656 \n",
      "\n"
     ]
    },
    {
     "data": {
      "image/png": "[encoded data removed]",
      "text/plain": [
       "<Figure size 576x576 with 1 Axes>"
      ]
     },
     "metadata": {
      "needs_background": "light"
     },
     "output_type": "display_data"
    },
    {
     "name": "stdout",
     "output_type": "stream",
     "text": [
      "For STD :  0.0001\n",
      "\n",
      " Training set MSE:  3.988672606043183e-06\n",
      "\n",
      " Training set MAE:  0.0015978700389806628 \n",
      "\n",
      "\n",
      " Test set R-squared:  -100870.19224862999\n",
      "\n",
      " Test set MSE:  8187.980862689729\n",
      "\n",
      " Test set MAE:  71.57461090294602 \n",
      "\n"
     ]
    },
    {
     "data": {
      "image/png": "[encoded data removed]",
      "text/plain": [
       "<Figure size 576x576 with 1 Axes>"
      ]
     },
     "metadata": {
      "needs_background": "light"
     },
     "output_type": "display_data"
    },
    {
     "name": "stdout",
     "output_type": "stream",
     "text": [
      "Accuracy:  -100870.19224862999\n"
     ]
    }
   ],
   "source": [
    "\n",
    "\n",
    "# Extract X (input features) and Y (target variable)\n",
    "Y = data[\"cdom\"]\n",
    "X = data.drop('cdom' ,  axis = 1 )\n",
    "\n",
    "# Call the function with X and Y as inputs and get the accuracy\n",
    "accuracy = noise_pls_cv(X, Y, random_state=42)\n",
    "print(\"Accuracy: \", accuracy)"
   ]
  },
  {
   "cell_type": "code",
   "execution_count": null,
   "id": "d861f3b3",
   "metadata": {},
   "outputs": [],
   "source": []
  },
  {
   "cell_type": "code",
   "execution_count": null,
   "id": "552bf67b",
   "metadata": {},
   "outputs": [],
   "source": []
  },
  {
   "cell_type": "code",
   "execution_count": 31,
   "id": "54b1e1cc",
   "metadata": {},
   "outputs": [],
   "source": [
    "def noise_pls_cv1(X, y, random_state = None):\n",
    " \n",
    "    np.random.seed(random_state)\n",
    "    n_comp = 100\n",
    "    mse = []\n",
    "    component = np.arange(1, n_comp)\n",
    "\n",
    "    for i in component:\n",
    "        pls = PLSRegression(n_components=i)\n",
    "\n",
    "\n",
    "        y_cv = cross_val_predict(pls, X, y, cv=10)\n",
    "\n",
    "        mse.append(mean_squared_error(y, y_cv))\n",
    "\n",
    "        comp = 100*(i+1)/n_comp\n",
    "\n",
    "        stdout.write(\"\\r%d%% completed\" % comp)\n",
    "        stdout.flush()\n",
    "    stdout.write(\"\\n\")\n",
    "\n",
    "\n",
    "    msemin = np.argmin(mse)\n",
    "    print(\"Suggested number of components: \", msemin+1)\n",
    "    stdout.write(\"\\n\")\n",
    "\n",
    "\n",
    "\n",
    "\n",
    "\n",
    "\n",
    "    X_train = X\n",
    "    Y_train = y\n",
    "    # Randomly select indices for test data\n",
    "    '''  generates test data by randomly selecting indices from the input data (X) using np.random.choice()\n",
    "    replace=False argument ensures that the same index is not selected multiple times.\n",
    "    np.random.normal() generates random numbers from a normal distribution with a mean of 0 (loc=0) and a\n",
    "    standard deviation of 0.1 (scale=0.1). The size parameter is set to (len(test_indices), X.shape[1]) to match the\n",
    "    shape of X_test, where X.shape[1] represents the number of columns (features) in X '''\n",
    "    scale_values = [0.1 , 0.01 , 0.001,0.0001]\n",
    "    for x in scale_values:\n",
    "      amp = x\n",
    "      noise = amp * np.sin(X)\n",
    "      X_test = X + noise\n",
    "      Y_test = amp*np.sin(Y) + Y\n",
    "    \n",
    "      rf = PLSRegression(n_components=msemin+1)\n",
    "      rf.fit(X_train, Y_train)\n",
    "\n",
    "      preds_train = rf.predict(X_train)  # predicted values for training data\n",
    "      true_y_train = Y_train.to_numpy().flatten()\n",
    "      error_rf_mse_train = mean_squared_error(true_y_train, preds_train)\n",
    "      error_rf_abs_train = mean_absolute_error(true_y_train, preds_train)\n",
    "\n",
    "      preds = rf.predict(X_test)  # predicted value\n",
    "      true_y = Y_test.to_numpy().flatten()\n",
    "      error_rf_mse = mean_squared_error(true_y, preds)\n",
    "      error_rf_abs = mean_absolute_error(true_y, preds)\n",
    "\n",
    "      print(\"For STD : \", x)\n",
    "      print(\"\\n Training set MSE: \", error_rf_mse_train)\n",
    "      print(\"\\n Training set MAE: \", error_rf_abs_train, \"\\n\")\n",
    "\n",
    "      print(\"\\n Test set R-squared: \", rf.score(X_test, Y_test))\n",
    "      print(\"\\n Test set MSE: \", error_rf_mse)\n",
    "      print(\"\\n Test set MAE: \", error_rf_abs, \"\\n\")\n",
    "\n",
    "\n",
    "      # Plot true vs predicted values\n",
    "      fig, ax = plt.subplots(figsize=(8, 8))\n",
    "      ax.scatter(true_y, preds, color='blue', label='True vs Predicted')\n",
    "      ax.plot([true_y.min(), true_y.max()], [true_y.min(), true_y.max()], color='red', linestyle='--', label='Ideal')\n",
    "      ax.set_xlabel('True Values')\n",
    "      ax.set_ylabel('Predicted Values')\n",
    "      ax.legend()\n",
    "      plt.show()\n",
    "    \n",
    "    \n",
    "    return rf.score(X_test, Y_test)\n",
    "\n",
    "\n",
    "\n",
    " \n",
    " "
   ]
  },
  {
   "cell_type": "code",
   "execution_count": 32,
   "id": "8dfc0ed1",
   "metadata": {},
   "outputs": [
    {
     "name": "stdout",
     "output_type": "stream",
     "text": [
      "100% completed\n",
      "Suggested number of components:  12\n",
      "\n",
      "For STD :  0.1\n",
      "\n",
      " Training set MSE:  3.988672606043183e-06\n",
      "\n",
      " Training set MAE:  0.0015978700389806628 \n",
      "\n",
      "\n",
      " Test set R-squared:  -16.44096907675613\n",
      "\n",
      " Test set MSE:  1.7132172556600629\n",
      "\n",
      " Test set MAE:  1.308889952023622 \n",
      "\n"
     ]
    },
    {
     "data": {
      "image/png": "[encoded data removed]",
      "text/plain": [
       "<Figure size 576x576 with 1 Axes>"
      ]
     },
     "metadata": {
      "needs_background": "light"
     },
     "output_type": "display_data"
    },
    {
     "name": "stdout",
     "output_type": "stream",
     "text": [
      "For STD :  0.01\n",
      "\n",
      " Training set MSE:  3.988672606043183e-06\n",
      "\n",
      " Training set MAE:  0.0015978700389806628 \n",
      "\n",
      "\n",
      " Test set R-squared:  0.797841120953761\n",
      "\n",
      " Test set MSE:  0.017136140563692198\n",
      "\n",
      " Test set MAE:  0.1308889952023621 \n",
      "\n"
     ]
    },
    {
     "data": {
      "image/png": "[encoded data removed]",
      "text/plain": [
       "<Figure size 576x576 with 1 Axes>"
      ]
     },
     "metadata": {
      "needs_background": "light"
     },
     "output_type": "display_data"
    },
    {
     "name": "stdout",
     "output_type": "stream",
     "text": [
      "For STD :  0.001\n",
      "\n",
      " Training set MSE:  3.988672606043183e-06\n",
      "\n",
      " Training set MAE:  0.0015978700389806628 \n",
      "\n",
      "\n",
      " Test set R-squared:  0.9978998033516233\n",
      "\n",
      " Test set MSE:  0.00017531211363806316\n",
      "\n",
      " Test set MAE:  0.013088899520236135 \n",
      "\n"
     ]
    },
    {
     "data": {
      "image/png": "[encoded data removed]",
      "text/plain": [
       "<Figure size 576x576 with 1 Axes>"
      ]
     },
     "metadata": {
      "needs_background": "light"
     },
     "output_type": "display_data"
    },
    {
     "name": "stdout",
     "output_type": "stream",
     "text": [
      "For STD :  0.0001\n",
      "\n",
      " Training set MSE:  3.988672606043183e-06\n",
      "\n",
      " Training set MAE:  0.0015978700389806628 \n",
      "\n",
      "\n",
      " Test set R-squared:  0.9999315848255259\n",
      "\n",
      " Test set MSE:  5.702099228480052e-06\n",
      "\n",
      " Test set MAE:  0.0019305186527132684 \n",
      "\n"
     ]
    },
    {
     "data": {
      "image/png": "[encoded data removed]",
      "text/plain": [
       "<Figure size 576x576 with 1 Axes>"
      ]
     },
     "metadata": {
      "needs_background": "light"
     },
     "output_type": "display_data"
    },
    {
     "name": "stdout",
     "output_type": "stream",
     "text": [
      "Accuracy:  0.9999315848255259\n"
     ]
    }
   ],
   "source": [
    "# Extract X (input features) and Y (target variable)\n",
    "Y = data[\"cdom\"]\n",
    "X = data.drop('cdom' ,  axis = 1 )\n",
    "\n",
    "# Call the function with X and Y as inputs and get the accuracy\n",
    "accuracy = noise_pls_cv1(X, Y, random_state=42)\n",
    "print(\"Accuracy: \", accuracy)"
   ]
  },
  {
   "cell_type": "code",
   "execution_count": 28,
   "id": "c9aa7029",
   "metadata": {},
   "outputs": [
    {
     "data": {
      "text/plain": [
       "'\\nNonlinear Noise: Instead of adding Gaussian noise, you can introduce nonlinear noise patterns \\nto simulate more complex data variations. This can be done by applying mathematical functions,\\nsuch as sine waves, polynomial functions, or other nonlinear transformations to your dataset.\\n\\nOutliers: Introduce outliers to your dataset to simulate extreme or unexpected observations. \\nOutliers can be generated by randomly selecting a subset of data points and modifying them to \\ndeviate significantly from the rest of the dataset.\\n\\nMissing Values: Introduce missing values to simulate incomplete or unreliable data. This\\ncan be done by randomly removing a certain percentage of values from your dataset or by \\nsystematically removing values based on specific criteria.\\n\\nHeteroscedastic Noise: Consider adding noise with varying levels of variance across different\\nregions of your dataset. Heteroscedastic noise can be applied by assigning different variances\\nto different subsets of data points, reflecting the varying levels of uncertainty or noise in different parts of your data.\\n\\nCorrelated Noise: Introduce noise that is correlated with certain features or target \\nvariables. This can be achieved by generating noise values that are linearly or nonlinearly \\nrelated to specific features or target variables in your dataset  '"
      ]
     },
     "execution_count": 28,
     "metadata": {},
     "output_type": "execute_result"
    }
   ],
   "source": [
    "\"\"\"\n",
    "Nonlinear Noise: Instead of adding Gaussian noise, you can introduce nonlinear noise patterns \n",
    "to simulate more complex data variations. This can be done by applying mathematical functions,\n",
    "such as sine waves, polynomial functions, or other nonlinear transformations to your dataset.\n",
    "\n",
    "Outliers: Introduce outliers to your dataset to simulate extreme or unexpected observations. \n",
    "Outliers can be generated by randomly selecting a subset of data points and modifying them to \n",
    "deviate significantly from the rest of the dataset.\n",
    "\n",
    "Missing Values: Introduce missing values to simulate incomplete or unreliable data. This\n",
    "can be done by randomly removing a certain percentage of values from your dataset or by \n",
    "systematically removing values based on specific criteria.\n",
    "\n",
    "Heteroscedastic Noise: Consider adding noise with varying levels of variance across different\n",
    "regions of your dataset. Heteroscedastic noise can be applied by assigning different variances\n",
    "to different subsets of data points, reflecting the varying levels of uncertainty or noise in different parts of your data.\n",
    "\n",
    "Correlated Noise: Introduce noise that is correlated with certain features or target \n",
    "variables. This can be achieved by generating noise values that are linearly or nonlinearly \n",
    "related to specific features or target variables in your dataset  \"\"\""
   ]
  },
  {
   "cell_type": "code",
   "execution_count": null,
   "id": "9b1bc240",
   "metadata": {},
   "outputs": [],
   "source": []
  }
 ],
 "metadata": {
  "kernelspec": {
   "display_name": "Python 3 (ipykernel)",
   "language": "python",
   "name": "python3"
  },
  "language_info": {
   "codemirror_mode": {
    "name": "ipython",
    "version": 3
   },
   "file_extension": ".py",
   "mimetype": "text/x-python",
   "name": "python",
   "nbconvert_exporter": "python",
   "pygments_lexer": "ipython3",
   "version": "3.9.12"
  }
 },
 "nbformat": 4,
 "nbformat_minor": 5
}
